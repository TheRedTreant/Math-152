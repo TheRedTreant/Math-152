{
  "nbformat": 4,
  "nbformat_minor": 0,
  "metadata": {
    "kernelspec": {
      "display_name": "Python 3",
      "language": "python",
      "name": "python3"
    },
    "language_info": {
      "codemirror_mode": {
        "name": "ipython",
        "version": 3
      },
      "file_extension": ".py",
      "mimetype": "text/x-python",
      "name": "python",
      "nbconvert_exporter": "python",
      "pygments_lexer": "ipython3",
      "version": "3.6.7"
    },
    "colab": {
      "provenance": [],
      "toc_visible": true,
      "include_colab_link": true
    }
  },
  "cells": [
    {
      "cell_type": "markdown",
      "metadata": {
        "id": "view-in-github",
        "colab_type": "text"
      },
      "source": [
        "<a href=\"https://colab.research.google.com/github/TheRedTreant/Math-152/blob/main/Copy_of_P4M_Notebook1.ipynb\" target=\"_parent\"><img src=\"https://colab.research.google.com/assets/colab-badge.svg\" alt=\"Open In Colab\"/></a>"
      ]
    },
    {
      "cell_type": "markdown",
      "metadata": {
        "id": "aLsfIWSoU5x_"
      },
      "source": [
        "#  Computing with Python:  an Introduction"
      ]
    },
    {
      "cell_type": "markdown",
      "metadata": {
        "id": "AXTRG_T1U5yD"
      },
      "source": [
        "Welcome to programming!\n",
        "\n",
        "What is the difference between *Python* and a calculator?  We begin this first lesson by showing how Python can be used **as** a calculator, and we move into one of the most important programming structures -- the **loop**.  Loops allow computers to carry out repetetive computations, with just a few commands.\n",
        "\n",
        "To navigate this notebook, you might wish to click on the Table of Contents icon (near top-left of the Google Colab window).  Then you can expand the sections to work on each one.\n",
        "\n",
        "Remember to save your work frequently on your personal GitHub repository.\n",
        "\n",
        "You do **not** need to complete every exercise to get full credit for this assignment.  Please **do** try to make it to the end of the notebook to learn all the concepts, and attempt as many exercises as time permits."
      ]
    },
    {
      "cell_type": "markdown",
      "metadata": {
        "id": "-y8Iz5LaU5yD"
      },
      "source": [
        "# Python as a calculator"
      ]
    },
    {
      "cell_type": "markdown",
      "metadata": {
        "id": "6rbqov7pU5yE"
      },
      "source": [
        "Different kinds of data are stored as different *types* in Python.  For example, if you wish to work with integers, your data is typically stored as an *int*.  A real number might be stored as a *float*.  There are types for booleans (True/False data), strings (like \"Hello World!\"), and many more we will see.  \n",
        "\n",
        "A more complete reference for Python's numerical types and arithmetic operations can be found in the [official Python documentation](https://docs.python.org/3/library/stdtypes.html).  The [official Python tutorial](https://docs.python.org/3/tutorial/introduction.html) is also a great place to start.\n",
        "\n",
        "Python allows you to perform arithmetic operations:  addition, subtraction, multiplication, and division, on numerical types.  The operation symbols are `+`, `-`, `*`, and `/`.   Evaluate each of the following cells to see how Python performs operations on *integers*.  \n",
        "\n",
        "To evaluate the cell, click anywhere within the cell to select it and use the keyboard shortcut *Shift-Enter* to evaluate.  But as you go through this and later lessons, try to *predict* what will happen when you evaluate the cell before you hit Shift-Enter.  Don't just click click click!  Think for a few seconds or a minute, and then Shift-Enter."
      ]
    },
    {
      "cell_type": "code",
      "metadata": {
        "scrolled": true,
        "id": "yqyWbMp-U5yE",
        "colab": {
          "base_uri": "https://localhost:8080/"
        },
        "outputId": "1b215db3-7c35-4451-9b2e-37a44ae3a67a"
      },
      "source": [
        "2 + 3"
      ],
      "execution_count": null,
      "outputs": [
        {
          "output_type": "execute_result",
          "data": {
            "text/plain": [
              "5"
            ]
          },
          "metadata": {},
          "execution_count": 1
        }
      ]
    },
    {
      "cell_type": "code",
      "metadata": {
        "scrolled": true,
        "id": "ITtBZC2kU5yE",
        "colab": {
          "base_uri": "https://localhost:8080/"
        },
        "outputId": "fd5140f5-a20e-4960-a82a-02790f632edf"
      },
      "source": [
        "2 * 3"
      ],
      "execution_count": null,
      "outputs": [
        {
          "output_type": "execute_result",
          "data": {
            "text/plain": [
              "6"
            ]
          },
          "metadata": {},
          "execution_count": 2
        }
      ]
    },
    {
      "cell_type": "code",
      "metadata": {
        "id": "mS2JIy1oU5yE",
        "colab": {
          "base_uri": "https://localhost:8080/"
        },
        "outputId": "5aa8ccaa-723e-48a4-c0c7-b0b21f67fe64"
      },
      "source": [
        "5 - 11"
      ],
      "execution_count": null,
      "outputs": [
        {
          "output_type": "execute_result",
          "data": {
            "text/plain": [
              "-6"
            ]
          },
          "metadata": {},
          "execution_count": 3
        }
      ]
    },
    {
      "cell_type": "code",
      "metadata": {
        "id": "WRjeVm8rU5yF",
        "colab": {
          "base_uri": "https://localhost:8080/"
        },
        "outputId": "25e95f6f-11b5-4fcd-dfe0-1bad7d56dbfc"
      },
      "source": [
        "5.0 - 11"
      ],
      "execution_count": null,
      "outputs": [
        {
          "output_type": "execute_result",
          "data": {
            "text/plain": [
              "-6.0"
            ]
          },
          "metadata": {},
          "execution_count": 4
        }
      ]
    },
    {
      "cell_type": "code",
      "metadata": {
        "id": "Q9pdWY_hU5yF",
        "colab": {
          "base_uri": "https://localhost:8080/"
        },
        "outputId": "dd25ef2d-eea1-427a-ac45-c9560cce1c96"
      },
      "source": [
        "5 / 11"
      ],
      "execution_count": null,
      "outputs": [
        {
          "output_type": "execute_result",
          "data": {
            "text/plain": [
              "0.45454545454545453"
            ]
          },
          "metadata": {},
          "execution_count": 5
        }
      ]
    },
    {
      "cell_type": "code",
      "metadata": {
        "id": "TPzva1UXU5yF",
        "colab": {
          "base_uri": "https://localhost:8080/"
        },
        "outputId": "0c6f4220-fae9-4c47-dc8f-182974761b62"
      },
      "source": [
        "6 / 3"
      ],
      "execution_count": null,
      "outputs": [
        {
          "output_type": "execute_result",
          "data": {
            "text/plain": [
              "2.0"
            ]
          },
          "metadata": {},
          "execution_count": 6
        }
      ]
    },
    {
      "cell_type": "code",
      "metadata": {
        "id": "GUmGnpHVU5yF",
        "colab": {
          "base_uri": "https://localhost:8080/"
        },
        "outputId": "06e2370a-31fa-4535-df02-bd2b4d1919aa"
      },
      "source": [
        "5 // 11"
      ],
      "execution_count": null,
      "outputs": [
        {
          "output_type": "execute_result",
          "data": {
            "text/plain": [
              "0"
            ]
          },
          "metadata": {},
          "execution_count": 7
        }
      ]
    },
    {
      "cell_type": "code",
      "metadata": {
        "id": "JEXb5uPQU5yF",
        "colab": {
          "base_uri": "https://localhost:8080/"
        },
        "outputId": "809607cf-bc43-4164-c13b-08b392cea91f"
      },
      "source": [
        "6 // 3"
      ],
      "execution_count": null,
      "outputs": [
        {
          "output_type": "execute_result",
          "data": {
            "text/plain": [
              "2"
            ]
          },
          "metadata": {},
          "execution_count": 8
        }
      ]
    },
    {
      "cell_type": "code",
      "source": [
        "6.0/2"
      ],
      "metadata": {
        "id": "xoxjjh5lsG9M",
        "outputId": "d6c56c23-a4f4-482d-aba9-c90d870bf165",
        "colab": {
          "base_uri": "https://localhost:8080/"
        }
      },
      "execution_count": null,
      "outputs": [
        {
          "output_type": "execute_result",
          "data": {
            "text/plain": [
              "3.0"
            ]
          },
          "metadata": {},
          "execution_count": 44
        }
      ]
    },
    {
      "cell_type": "markdown",
      "metadata": {
        "id": "o4t4Yw_XU5yF"
      },
      "source": [
        "The results are probably not too surprising, though the last two require a bit of explanation.  Python *interprets* the input number 5 as an *int* (integer) and 5.0 as a *float*.  \"Float\" stands for \"floating point number,\" which is a sort of decimal approximation to a real number.  The word \"float\" refers to the fact that the decimal (or binary, for computers) point can float around (as in 1.2345 or 12.345 or 123.45 or 1234.5 or 0.00012345).  There are deep computational issues related to how computers handle decimal approximations, and you can [read about the IEEE standards](https://en.wikipedia.org/wiki/IEEE_754) if you're interested.\n",
        "\n",
        "Python enables different kinds of division.  The single-slash division in Python 3.x gives a floating point approximation of the quotient.  That's why `5 / 11` and `6 / 3` both output floats.  On the other hand, `5 // 11` and `6 // 3` yield integer outputs (rounding down) -- this is useful, but one has to be careful!\n",
        "\n",
        "In fact the designers of Python changed their mind.  **This tutorial assumes that you are using Python 3.x.**  If you are using Python 2.x, the command `5 / 11` would output zero."
      ]
    },
    {
      "cell_type": "code",
      "metadata": {
        "id": "msOx7ga_U5yF",
        "colab": {
          "base_uri": "https://localhost:8080/"
        },
        "outputId": "be3c8989-0211-4342-8055-e23f508f9f5a"
      },
      "source": [
        "-12 // 5  # What will this output?  Guess before evaluating!"
      ],
      "execution_count": null,
      "outputs": [
        {
          "output_type": "execute_result",
          "data": {
            "text/plain": [
              "-3"
            ]
          },
          "metadata": {},
          "execution_count": 9
        }
      ]
    },
    {
      "cell_type": "markdown",
      "metadata": {
        "id": "6m4OcRYfU5yG"
      },
      "source": [
        "Why use integer division `//` and why use floating point division?  In practice, integer division is typically a faster operation.  So if you only need the rounded result (and that will often be the case), use integer division.  It will run much faster than carrying out floating point division then manually rounding down.\n",
        "\n",
        "Observe that floating point operations involve approximation.  The result of `5.0/11.0` might not be what you expect in the last digit.  Over time, especially with repeated operations, *floating point approximation* errors can add up!"
      ]
    },
    {
      "cell_type": "markdown",
      "metadata": {
        "id": "uAyV-QWrU5yG"
      },
      "source": [
        "You might be wondering about the little [XX] and [XX] prompts in the code cells above.  What is their purpose?  Guess what the following line will do."
      ]
    },
    {
      "cell_type": "code",
      "metadata": {
        "id": "vgnp3B3JU5yG",
        "colab": {
          "base_uri": "https://localhost:8080/"
        },
        "outputId": "e5b99f2f-4dfc-4043-8734-b460bfbfbf82"
      },
      "source": [
        "Out[4] + Out[5]"
      ],
      "execution_count": null,
      "outputs": [
        {
          "output_type": "execute_result",
          "data": {
            "text/plain": [
              "-5.545454545454546"
            ]
          },
          "metadata": {},
          "execution_count": 10
        }
      ]
    },
    {
      "cell_type": "markdown",
      "metadata": {
        "id": "GgS8uA14U5yG"
      },
      "source": [
        "Cool, huh?  It's nice to have a record of previous computations, especially if you don't want to type something again.\n",
        "\n",
        "Python allows you to group expressions with parentheses, and follows the order of operations that you learn in school."
      ]
    },
    {
      "cell_type": "code",
      "metadata": {
        "id": "kE_p7LcGU5yG",
        "colab": {
          "base_uri": "https://localhost:8080/"
        },
        "outputId": "8692e0a2-febb-4b68-c94c-90055dfe487a"
      },
      "source": [
        "(3 + 4) * 5"
      ],
      "execution_count": null,
      "outputs": [
        {
          "output_type": "execute_result",
          "data": {
            "text/plain": [
              "35"
            ]
          },
          "metadata": {},
          "execution_count": 11
        }
      ]
    },
    {
      "cell_type": "code",
      "metadata": {
        "id": "n-hUvTxHU5yG",
        "colab": {
          "base_uri": "https://localhost:8080/"
        },
        "outputId": "5699fd0b-0c2f-4916-f780-1539c4708d88"
      },
      "source": [
        "3 + (4 * 5)"
      ],
      "execution_count": null,
      "outputs": [
        {
          "output_type": "execute_result",
          "data": {
            "text/plain": [
              "23"
            ]
          },
          "metadata": {},
          "execution_count": 12
        }
      ]
    },
    {
      "cell_type": "code",
      "metadata": {
        "id": "3E_z7E81U5yG",
        "colab": {
          "base_uri": "https://localhost:8080/"
        },
        "outputId": "beceeb25-6596-4f90-f1f5-6c3e8434b310"
      },
      "source": [
        "3 + 4 * 5   #  What do you think will be the result?  Remember PEMDAS?"
      ],
      "execution_count": null,
      "outputs": [
        {
          "output_type": "execute_result",
          "data": {
            "text/plain": [
              "23"
            ]
          },
          "metadata": {},
          "execution_count": 13
        }
      ]
    },
    {
      "cell_type": "code",
      "source": [
        "4(1+3) # Python does not use \"implicit\" multiplication!  This should give an error."
      ],
      "metadata": {
        "id": "Azt9irrVLcE1",
        "colab": {
          "base_uri": "https://localhost:8080/",
          "height": 235
        },
        "outputId": "45d9c313-0256-42c4-caaa-0e167713a8cf"
      },
      "execution_count": null,
      "outputs": [
        {
          "output_type": "stream",
          "name": "stderr",
          "text": [
            "<>:1: SyntaxWarning: 'int' object is not callable; perhaps you missed a comma?\n",
            "<>:1: SyntaxWarning: 'int' object is not callable; perhaps you missed a comma?\n",
            "<ipython-input-14-686be9fd5e6b>:1: SyntaxWarning: 'int' object is not callable; perhaps you missed a comma?\n",
            "  4(1+3) # Python does not use \"implicit\" multiplication!  This should give an error.\n"
          ]
        },
        {
          "output_type": "error",
          "ename": "TypeError",
          "evalue": "ignored",
          "traceback": [
            "\u001b[0;31m---------------------------------------------------------------------------\u001b[0m",
            "\u001b[0;31mTypeError\u001b[0m                                 Traceback (most recent call last)",
            "\u001b[0;32m<ipython-input-14-686be9fd5e6b>\u001b[0m in \u001b[0;36m<module>\u001b[0;34m\u001b[0m\n\u001b[0;32m----> 1\u001b[0;31m \u001b[0;36m4\u001b[0m\u001b[0;34m(\u001b[0m\u001b[0;36m1\u001b[0m\u001b[0;34m+\u001b[0m\u001b[0;36m3\u001b[0m\u001b[0;34m)\u001b[0m \u001b[0;31m# Python does not use \"implicit\" multiplication!  This should give an error.\u001b[0m\u001b[0;34m\u001b[0m\u001b[0;34m\u001b[0m\u001b[0m\n\u001b[0m",
            "\u001b[0;31mTypeError\u001b[0m: 'int' object is not callable"
          ]
        }
      ]
    },
    {
      "cell_type": "markdown",
      "metadata": {
        "id": "lIFwbvWsU5yG"
      },
      "source": [
        "Now is a good time to try a few computations of your own, in the empty cell below.  You can type any Python commands you want in the empty cell.  If you want to insert a new cell into this notebook, just hover your cursor in the space between cells in Colab."
      ]
    },
    {
      "cell_type": "code",
      "metadata": {
        "id": "Rc5Lv9wLU5yH",
        "colab": {
          "base_uri": "https://localhost:8080/"
        },
        "outputId": "71b233c0-996e-4af4-f650-e9994c5dd720"
      },
      "source": [
        "15*(3+6**2)"
      ],
      "execution_count": null,
      "outputs": [
        {
          "output_type": "execute_result",
          "data": {
            "text/plain": [
              "585"
            ]
          },
          "metadata": {},
          "execution_count": 15
        }
      ]
    },
    {
      "cell_type": "markdown",
      "metadata": {
        "id": "OkWlZNSSU5yH"
      },
      "source": [
        "For number theory, *division with remainder* is an operation of central importance.  Integer division provides the quotient, and the operation `%` provides the remainder.  It's a bit strange that the percent symbol is used for the remainder, but this [dates at least to the early 1970s](https://softwareengineering.stackexchange.com/questions/294297/in-what-programming-language-did-the-use-of-the-percent-sign-to-mean-modulo) and has become standard across computer languages."
      ]
    },
    {
      "cell_type": "code",
      "metadata": {
        "id": "xTWOi_XxU5yH",
        "colab": {
          "base_uri": "https://localhost:8080/"
        },
        "outputId": "b6063a5e-8404-45c0-ac6e-a1eea70dc55b"
      },
      "source": [
        "23 // 5  # Integer division"
      ],
      "execution_count": null,
      "outputs": [
        {
          "output_type": "execute_result",
          "data": {
            "text/plain": [
              "4"
            ]
          },
          "metadata": {},
          "execution_count": 16
        }
      ]
    },
    {
      "cell_type": "code",
      "metadata": {
        "id": "UNjARp_xU5yH",
        "colab": {
          "base_uri": "https://localhost:8080/"
        },
        "outputId": "d1db0de7-cc69-45e0-8ae9-3ac0cc9ce3a7"
      },
      "source": [
        "23 % 5  # The remainder after division"
      ],
      "execution_count": null,
      "outputs": [
        {
          "output_type": "execute_result",
          "data": {
            "text/plain": [
              "3"
            ]
          },
          "metadata": {},
          "execution_count": 17
        }
      ]
    },
    {
      "cell_type": "markdown",
      "metadata": {
        "id": "WFrRvFgkU5yH"
      },
      "source": [
        "Note in the code above, there are little \"comments\".  To place a short comment on a line of code, just put a hashtag `#` at the end of the line of code, followed by your comment.\n",
        "\n",
        "Python gives a single command for division with remainder.  Its output is a *tuple*."
      ]
    },
    {
      "cell_type": "code",
      "metadata": {
        "id": "F2zJS-tRU5yH",
        "colab": {
          "base_uri": "https://localhost:8080/"
        },
        "outputId": "88ed2820-8a5f-4ca0-e5ff-92fe2608379b"
      },
      "source": [
        "divmod(23,5)"
      ],
      "execution_count": null,
      "outputs": [
        {
          "output_type": "execute_result",
          "data": {
            "text/plain": [
              "(4, 3)"
            ]
          },
          "metadata": {},
          "execution_count": 18
        }
      ]
    },
    {
      "cell_type": "code",
      "metadata": {
        "id": "y3dckm2dU5yH",
        "colab": {
          "base_uri": "https://localhost:8080/"
        },
        "outputId": "3258e4dc-bdf7-4d76-d763-78a8726249d2"
      },
      "source": [
        "type(divmod(23,5))"
      ],
      "execution_count": null,
      "outputs": [
        {
          "output_type": "execute_result",
          "data": {
            "text/plain": [
              "tuple"
            ]
          },
          "metadata": {},
          "execution_count": 19
        }
      ]
    },
    {
      "cell_type": "markdown",
      "metadata": {
        "id": "0qVUgNJ2U5yH"
      },
      "source": [
        "All data in Python has a type, but a common complaint about Python is that types are a bit concealed \"under the hood\".  But they are not far under the hood!  Anyone can find out the type of some data with a single command."
      ]
    },
    {
      "cell_type": "code",
      "metadata": {
        "id": "TU1Cho4tU5yI",
        "colab": {
          "base_uri": "https://localhost:8080/"
        },
        "outputId": "8e4a10b1-7b8a-4fb7-97ab-fc1977d80bf0"
      },
      "source": [
        "type(3)"
      ],
      "execution_count": null,
      "outputs": [
        {
          "output_type": "execute_result",
          "data": {
            "text/plain": [
              "int"
            ]
          },
          "metadata": {},
          "execution_count": 20
        }
      ]
    },
    {
      "cell_type": "code",
      "metadata": {
        "id": "OYALDWO5U5yI",
        "colab": {
          "base_uri": "https://localhost:8080/"
        },
        "outputId": "be33bf11-e2c8-40b2-d6ec-532c55c8ea16"
      },
      "source": [
        "type(3.0)"
      ],
      "execution_count": null,
      "outputs": [
        {
          "output_type": "execute_result",
          "data": {
            "text/plain": [
              "float"
            ]
          },
          "metadata": {},
          "execution_count": 21
        }
      ]
    },
    {
      "cell_type": "code",
      "metadata": {
        "id": "SHQ-_qcHU5yI",
        "colab": {
          "base_uri": "https://localhost:8080/"
        },
        "outputId": "d87ed463-d199-459b-97b5-61434bd8ffda"
      },
      "source": [
        "type('Hello')"
      ],
      "execution_count": null,
      "outputs": [
        {
          "output_type": "execute_result",
          "data": {
            "text/plain": [
              "str"
            ]
          },
          "metadata": {},
          "execution_count": 22
        }
      ]
    },
    {
      "cell_type": "code",
      "metadata": {
        "id": "nhf-YmD3U5yI",
        "colab": {
          "base_uri": "https://localhost:8080/"
        },
        "outputId": "33ab5cb9-b5ad-47b9-ed0e-8f27b93fdfa6"
      },
      "source": [
        "type([1,2,3])"
      ],
      "execution_count": null,
      "outputs": [
        {
          "output_type": "execute_result",
          "data": {
            "text/plain": [
              "list"
            ]
          },
          "metadata": {},
          "execution_count": 23
        }
      ]
    },
    {
      "cell_type": "markdown",
      "metadata": {
        "id": "tYWDszLmU5yI"
      },
      "source": [
        "The key to careful computation in Python is always being *aware of the type* of your data, and *knowing* how Python operates differently on data of different types."
      ]
    },
    {
      "cell_type": "code",
      "metadata": {
        "id": "Uc7eYJLWU5yI",
        "colab": {
          "base_uri": "https://localhost:8080/"
        },
        "outputId": "ffd00331-b024-40d5-c6a6-1480c923939d"
      },
      "source": [
        "3 + 3"
      ],
      "execution_count": null,
      "outputs": [
        {
          "output_type": "execute_result",
          "data": {
            "text/plain": [
              "6"
            ]
          },
          "metadata": {},
          "execution_count": 24
        }
      ]
    },
    {
      "cell_type": "code",
      "metadata": {
        "id": "jv6N6XLQU5yI",
        "colab": {
          "base_uri": "https://localhost:8080/"
        },
        "outputId": "15262033-48f4-450d-c7ff-9b824794e7e2"
      },
      "source": [
        "3.0 + 3.0"
      ],
      "execution_count": null,
      "outputs": [
        {
          "output_type": "execute_result",
          "data": {
            "text/plain": [
              "6.0"
            ]
          },
          "metadata": {},
          "execution_count": 25
        }
      ]
    },
    {
      "cell_type": "code",
      "metadata": {
        "id": "KKF4Sv-jU5yI",
        "colab": {
          "base_uri": "https://localhost:8080/",
          "height": 36
        },
        "outputId": "7aa9b671-271a-450a-cf9d-969b06ea4ffd"
      },
      "source": [
        "'Hello' + 'World!'"
      ],
      "execution_count": null,
      "outputs": [
        {
          "output_type": "execute_result",
          "data": {
            "text/plain": [
              "'HelloWorld!'"
            ],
            "application/vnd.google.colaboratory.intrinsic+json": {
              "type": "string"
            }
          },
          "metadata": {},
          "execution_count": 26
        }
      ]
    },
    {
      "cell_type": "code",
      "metadata": {
        "id": "q9H__Z99U5yI",
        "colab": {
          "base_uri": "https://localhost:8080/"
        },
        "outputId": "4d3df32b-6ef5-4daf-affc-e1770c1ecd2c"
      },
      "source": [
        "[1,2,3] + [4,5,6]"
      ],
      "execution_count": null,
      "outputs": [
        {
          "output_type": "execute_result",
          "data": {
            "text/plain": [
              "[1, 2, 3, 4, 5, 6]"
            ]
          },
          "metadata": {},
          "execution_count": 27
        }
      ]
    },
    {
      "cell_type": "code",
      "metadata": {
        "id": "NDDAxeQJU5yJ",
        "colab": {
          "base_uri": "https://localhost:8080/"
        },
        "outputId": "9e8b1560-f1bd-4400-c39d-22eb31924251"
      },
      "source": [
        "3 + 3.0"
      ],
      "execution_count": null,
      "outputs": [
        {
          "output_type": "execute_result",
          "data": {
            "text/plain": [
              "6.0"
            ]
          },
          "metadata": {},
          "execution_count": 28
        }
      ]
    },
    {
      "cell_type": "code",
      "metadata": {
        "id": "xuBj_w9_U5yJ",
        "colab": {
          "base_uri": "https://localhost:8080/",
          "height": 165
        },
        "outputId": "2c39f308-eb5b-4830-fd50-d389d52a309c"
      },
      "source": [
        "3 + 'Hello!'  # Uh oh!"
      ],
      "execution_count": null,
      "outputs": [
        {
          "output_type": "error",
          "ename": "TypeError",
          "evalue": "ignored",
          "traceback": [
            "\u001b[0;31m---------------------------------------------------------------------------\u001b[0m",
            "\u001b[0;31mTypeError\u001b[0m                                 Traceback (most recent call last)",
            "\u001b[0;32m<ipython-input-29-dacf80a979a3>\u001b[0m in \u001b[0;36m<module>\u001b[0;34m\u001b[0m\n\u001b[0;32m----> 1\u001b[0;31m \u001b[0;36m3\u001b[0m \u001b[0;34m+\u001b[0m \u001b[0;34m'Hello!'\u001b[0m  \u001b[0;31m# Uh oh!\u001b[0m\u001b[0;34m\u001b[0m\u001b[0;34m\u001b[0m\u001b[0m\n\u001b[0m",
            "\u001b[0;31mTypeError\u001b[0m: unsupported operand type(s) for +: 'int' and 'str'"
          ]
        }
      ]
    },
    {
      "cell_type": "code",
      "metadata": {
        "id": "9P7roKZgU5yJ",
        "colab": {
          "base_uri": "https://localhost:8080/",
          "height": 36
        },
        "outputId": "c894c9db-be34-4076-c2c8-9f406e03bceb"
      },
      "source": [
        "#  An empty cell.  Have fun!\n",
        "#  Try operating on ints, floats, and strings, with different operations.  Which ones work?  How?\n",
        "'Hello ' + 'Oleg'"
      ],
      "execution_count": null,
      "outputs": [
        {
          "output_type": "execute_result",
          "data": {
            "text/plain": [
              "'Hello Oleg'"
            ],
            "application/vnd.google.colaboratory.intrinsic+json": {
              "type": "string"
            }
          },
          "metadata": {},
          "execution_count": 32
        }
      ]
    },
    {
      "cell_type": "markdown",
      "metadata": {
        "id": "1_2D8-NFU5yJ"
      },
      "source": [
        "As you can see, addition (the `+` operator) is interpreted differently in the contexts of numbers, strings, and lists.  The designers of Python allowed us to add *numbers* of different types:  if you try to operate on an *int* and a *float*, the *int* will typically be *coerced* into a float in order to perform the operation.  But the designers of Python did not give meaning to the addition of a number with a string, for example.  That's why you probably received a *TypeError* after trying to add a number to a string. \n",
        "\n",
        "On the other hand, Python does interpret *multiplication* of a natural number with a string or a list."
      ]
    },
    {
      "cell_type": "code",
      "metadata": {
        "id": "MmRfXepMU5yJ",
        "colab": {
          "base_uri": "https://localhost:8080/",
          "height": 140
        },
        "outputId": "26e769f9-a09b-43fc-d684-5b3a0d113a3f"
      },
      "source": [
        "300 * 'Hello!'"
      ],
      "execution_count": null,
      "outputs": [
        {
          "output_type": "execute_result",
          "data": {
            "text/plain": [
              "'Hello!Hello!Hello!Hello!Hello!Hello!Hello!Hello!Hello!Hello!Hello!Hello!Hello!Hello!Hello!Hello!Hello!Hello!Hello!Hello!Hello!Hello!Hello!Hello!Hello!Hello!Hello!Hello!Hello!Hello!Hello!Hello!Hello!Hello!Hello!Hello!Hello!Hello!Hello!Hello!Hello!Hello!Hello!Hello!Hello!Hello!Hello!Hello!Hello!Hello!Hello!Hello!Hello!Hello!Hello!Hello!Hello!Hello!Hello!Hello!Hello!Hello!Hello!Hello!Hello!Hello!Hello!Hello!Hello!Hello!Hello!Hello!Hello!Hello!Hello!Hello!Hello!Hello!Hello!Hello!Hello!Hello!Hello!Hello!Hello!Hello!Hello!Hello!Hello!Hello!Hello!Hello!Hello!Hello!Hello!Hello!Hello!Hello!Hello!Hello!Hello!Hello!Hello!Hello!Hello!Hello!Hello!Hello!Hello!Hello!Hello!Hello!Hello!Hello!Hello!Hello!Hello!Hello!Hello!Hello!Hello!Hello!Hello!Hello!Hello!Hello!Hello!Hello!Hello!Hello!Hello!Hello!Hello!Hello!Hello!Hello!Hello!Hello!Hello!Hello!Hello!Hello!Hello!Hello!Hello!Hello!Hello!Hello!Hello!Hello!Hello!Hello!Hello!Hello!Hello!Hello!Hello!Hello!Hello!Hello!Hello!Hello!Hello!Hello!Hello!Hello!Hello!Hello!Hello!Hello!Hello!Hello!Hello!Hello!Hello!Hello!Hello!Hello!Hello!Hello!Hello!Hello!Hello!Hello!Hello!Hello!Hello!Hello!Hello!Hello!Hello!Hello!Hello!Hello!Hello!Hello!Hello!Hello!Hello!Hello!Hello!Hello!Hello!Hello!Hello!Hello!Hello!Hello!Hello!Hello!Hello!Hello!Hello!Hello!Hello!Hello!Hello!Hello!Hello!Hello!Hello!Hello!Hello!Hello!Hello!Hello!Hello!Hello!Hello!Hello!Hello!Hello!Hello!Hello!Hello!Hello!Hello!Hello!Hello!Hello!Hello!Hello!Hello!Hello!Hello!Hello!Hello!Hello!Hello!Hello!Hello!Hello!Hello!Hello!Hello!Hello!Hello!Hello!Hello!Hello!Hello!Hello!Hello!Hello!Hello!Hello!Hello!Hello!Hello!Hello!Hello!Hello!Hello!Hello!Hello!Hello!Hello!Hello!Hello!Hello!Hello!Hello!Hello!Hello!Hello!Hello!Hello!Hello!Hello!Hello!Hello!Hello!Hello!Hello!Hello!Hello!Hello!Hello!Hello!Hello!'"
            ],
            "application/vnd.google.colaboratory.intrinsic+json": {
              "type": "string"
            }
          },
          "metadata": {},
          "execution_count": 34
        }
      ]
    },
    {
      "cell_type": "code",
      "metadata": {
        "id": "gVo2bjWzU5yJ",
        "colab": {
          "base_uri": "https://localhost:8080/",
          "height": 36
        },
        "outputId": "74df15b5-131c-496c-cd61-595080b0f9eb"
      },
      "source": [
        "0 * 'Hello!'"
      ],
      "execution_count": null,
      "outputs": [
        {
          "output_type": "execute_result",
          "data": {
            "text/plain": [
              "''"
            ],
            "application/vnd.google.colaboratory.intrinsic+json": {
              "type": "string"
            }
          },
          "metadata": {},
          "execution_count": 35
        }
      ]
    },
    {
      "cell_type": "code",
      "metadata": {
        "id": "OqWWK6VWU5yJ",
        "colab": {
          "base_uri": "https://localhost:8080/"
        },
        "outputId": "604ada0f-2b57-4a55-9598-f09913bddf1d"
      },
      "source": [
        "2 * [1,2,3]"
      ],
      "execution_count": null,
      "outputs": [
        {
          "output_type": "execute_result",
          "data": {
            "text/plain": [
              "[1, 2, 3, 1, 2, 3]"
            ]
          },
          "metadata": {},
          "execution_count": 36
        }
      ]
    },
    {
      "cell_type": "markdown",
      "metadata": {
        "id": "Z28hpoAjU5yJ"
      },
      "source": [
        "Can you create a string with 100 A's (like `AAA...`)?  Use an appropriate operation in the cell below."
      ]
    },
    {
      "cell_type": "code",
      "metadata": {
        "id": "fAxwL5O3U5yJ",
        "colab": {
          "base_uri": "https://localhost:8080/",
          "height": 36
        },
        "outputId": "31c3e55e-7175-4d42-d9d1-eaa700fbf880"
      },
      "source": [
        "100 * 'A'"
      ],
      "execution_count": null,
      "outputs": [
        {
          "output_type": "execute_result",
          "data": {
            "text/plain": [
              "'AAAAAAAAAAAAAAAAAAAAAAAAAAAAAAAAAAAAAAAAAAAAAAAAAAAAAAAAAAAAAAAAAAAAAAAAAAAAAAAAAAAAAAAAAAAAAAAAAAAA'"
            ],
            "application/vnd.google.colaboratory.intrinsic+json": {
              "type": "string"
            }
          },
          "metadata": {},
          "execution_count": 37
        }
      ]
    },
    {
      "cell_type": "markdown",
      "metadata": {
        "id": "nHp8b6_8U5yJ"
      },
      "source": [
        "Exponents in Python are given by the `**` operator.  The following lines compute 2 to the 1000th power, in two different ways."
      ]
    },
    {
      "cell_type": "code",
      "metadata": {
        "id": "VNDmF-hcU5yK",
        "colab": {
          "base_uri": "https://localhost:8080/"
        },
        "outputId": "967f7d66-c878-41cd-a6d7-442f6bed3828"
      },
      "source": [
        "2**1000"
      ],
      "execution_count": null,
      "outputs": [
        {
          "output_type": "execute_result",
          "data": {
            "text/plain": [
              "10715086071862673209484250490600018105614048117055336074437503883703510511249361224931983788156958581275946729175531468251871452856923140435984577574698574803934567774824230985421074605062371141877954182153046474983581941267398767559165543946077062914571196477686542167660429831652624386837205668069376"
            ]
          },
          "metadata": {},
          "execution_count": 38
        }
      ]
    },
    {
      "cell_type": "code",
      "metadata": {
        "id": "DEHGNQ3RU5yK",
        "colab": {
          "base_uri": "https://localhost:8080/"
        },
        "outputId": "8e7666e9-cbee-4a67-cbcb-7395e127aaa3"
      },
      "source": [
        "2.0**1000"
      ],
      "execution_count": null,
      "outputs": [
        {
          "output_type": "execute_result",
          "data": {
            "text/plain": [
              "1.0715086071862673e+301"
            ]
          },
          "metadata": {},
          "execution_count": 39
        }
      ]
    },
    {
      "cell_type": "markdown",
      "metadata": {
        "id": "O1bSyFFJU5yK"
      },
      "source": [
        "As before, Python interprets an operation (`**`) differently in different contexts.  When given integer input, Python evaluates `2**1000` **exactly**.  The result is a large integer.  A nice fact about Python, for mathematicians, is that it handles exact integers of arbitrary length!  Many other programming languages (like C++) will give an error message if integers get too large in the midst of a computation.  \n",
        "\n",
        "New in version 3.x, Python implements long integers without giving signals to the programmer or changing types.  In Python 2.x, there were two types: *int* for somewhat small integers (e.g., up to $2^{31}$) and *long* type for all larger integers.  Python 2.x would signal which type of integer was being used, by placing the letter \"L\" at the end of a long integer.  Now, in Python 3.x, the programmer doesn't really see the difference.  There is only the *int* type.  But Python still optimizes computations, using hardware functionality for arithmetic of small integers and custom routines for large integers.  The programmer doesn't have to worry about it most of the time.\n",
        "\n",
        "For scientific applications, one often wants to keep track of only a certain number of significant digits (sig figs).  If one computes the floating point exponent `2.0**1000`, the result is a decimal approximation.  It is still a float.  The expression \"e+301\" stands for \"multiplied by 10 to the 301st power\", i.e., Python uses *scientific notation* for large floats."
      ]
    },
    {
      "cell_type": "code",
      "metadata": {
        "id": "gbiP5lpxU5yK",
        "colab": {
          "base_uri": "https://localhost:8080/"
        },
        "outputId": "5f28bdb4-139a-4aeb-85d9-a1ee7368c273"
      },
      "source": [
        "type(2**1000)"
      ],
      "execution_count": null,
      "outputs": [
        {
          "output_type": "execute_result",
          "data": {
            "text/plain": [
              "int"
            ]
          },
          "metadata": {},
          "execution_count": 40
        }
      ]
    },
    {
      "cell_type": "code",
      "metadata": {
        "id": "oYFQ7ZxFU5yL",
        "colab": {
          "base_uri": "https://localhost:8080/"
        },
        "outputId": "b6297676-a21e-481d-abf1-81329cc8a55c"
      },
      "source": [
        "type(2.0**1000)"
      ],
      "execution_count": null,
      "outputs": [
        {
          "output_type": "execute_result",
          "data": {
            "text/plain": [
              "float"
            ]
          },
          "metadata": {},
          "execution_count": 41
        }
      ]
    },
    {
      "cell_type": "code",
      "metadata": {
        "id": "MtmwQzLgU5yL",
        "colab": {
          "base_uri": "https://localhost:8080/"
        },
        "outputId": "7a6f2dbb-35f6-4a15-bd31-174e0f7f6c5e"
      },
      "source": [
        "type(3.0+3)\n"
      ],
      "execution_count": null,
      "outputs": [
        {
          "output_type": "execute_result",
          "data": {
            "text/plain": [
              "float"
            ]
          },
          "metadata": {},
          "execution_count": 43
        }
      ]
    },
    {
      "cell_type": "code",
      "source": [
        "200000000/23"
      ],
      "metadata": {
        "id": "2U3CLXvCsRrm",
        "outputId": "55bfc343-20e4-469c-c09d-8050641568a3",
        "colab": {
          "base_uri": "https://localhost:8080/"
        }
      },
      "execution_count": null,
      "outputs": [
        {
          "output_type": "execute_result",
          "data": {
            "text/plain": [
              "8695652.173913043"
            ]
          },
          "metadata": {},
          "execution_count": 45
        }
      ]
    },
    {
      "cell_type": "code",
      "source": [
        "23049490.29032/13.3323"
      ],
      "metadata": {
        "id": "Tfzgp6c8sT2K",
        "outputId": "4df0b086-2c52-449c-895e-8be17f5b153e",
        "colab": {
          "base_uri": "https://localhost:8080/"
        }
      },
      "execution_count": null,
      "outputs": [
        {
          "output_type": "execute_result",
          "data": {
            "text/plain": [
              "1728845.7573201924"
            ]
          },
          "metadata": {},
          "execution_count": 46
        }
      ]
    },
    {
      "cell_type": "code",
      "source": [
        "193008034.180277812*100808.123"
      ],
      "metadata": {
        "id": "iO0bfKBjsaJB",
        "outputId": "0e390ee9-936d-4c97-ab5a-24b985cc975e",
        "colab": {
          "base_uri": "https://localhost:8080/"
        }
      },
      "execution_count": null,
      "outputs": [
        {
          "output_type": "execute_result",
          "data": {
            "text/plain": [
              "19456777649633.652"
            ]
          },
          "metadata": {},
          "execution_count": 47
        }
      ]
    },
    {
      "cell_type": "code",
      "source": [
        "110390083*13208108380193.5"
      ],
      "metadata": {
        "id": "BuO6Y6l8sgwP",
        "outputId": "c2aa5fcb-46f5-414c-81ca-36ae6a018281",
        "colab": {
          "base_uri": "https://localhost:8080/"
        }
      },
      "execution_count": null,
      "outputs": [
        {
          "output_type": "execute_result",
          "data": {
            "text/plain": [
              "1.458044180362556e+21"
            ]
          },
          "metadata": {},
          "execution_count": 48
        }
      ]
    },
    {
      "cell_type": "code",
      "source": [
        "1209019186398698309781097.3*11287891312896398698693798"
      ],
      "metadata": {
        "id": "gKvgNh08sm_g",
        "outputId": "9180a7bd-fec4-45db-96ae-eb7373dc4618",
        "colab": {
          "base_uri": "https://localhost:8080/"
        }
      },
      "execution_count": null,
      "outputs": [
        {
          "output_type": "execute_result",
          "data": {
            "text/plain": [
              "1.3647277171274938e+49"
            ]
          },
          "metadata": {},
          "execution_count": 51
        }
      ]
    },
    {
      "cell_type": "markdown",
      "metadata": {
        "id": "hu0LPXNLU5yL"
      },
      "source": [
        "Now is a good time for reflection.  Double-click in the cell below to answer the given questions.  Cells like this one are used for text rather than Python code.  Text is entered using *markdown*, but you can typically just enter text as you would in any text editor without problems.  Press *shift-Enter* after editing a text cell to complete the editing process.  "
      ]
    },
    {
      "cell_type": "markdown",
      "metadata": {
        "id": "QLyCVcXoU5yL"
      },
      "source": [
        "### Exercises\n",
        "\n",
        "1.  What data types have you seen, and what kinds of data are they used for?  Can you remember them without looking back?\n",
        "\n",
        "2.  How is division `/` interpreted differently for different types of data?\n",
        "\n",
        "3.  How is multiplication `*` interpreted differently for different types of data?\n",
        "\n",
        "4.  What is the difference between 100 and 100.0, for Python?"
      ]
    },
    {
      "cell_type": "markdown",
      "metadata": {
        "id": "KDzM72ZXU5yL"
      },
      "source": [
        "Double-click this text cell to edit it, and answer the exercises.  This **may be graded**, so please complete all questions!  Write in clear, complete, and concise sentences.\n",
        "\n",
        "1. floats, lists, integers, and strings\n",
        "\n",
        "2. for integers it gives floats, it seems they're treated similarly\n",
        "\n",
        "3. for some reason when you multiply an integer by a float the result will be in scientific notation but not when you do an integer by an integer or a float by a float\n",
        "\n",
        "4. they're different types"
      ]
    },
    {
      "cell_type": "markdown",
      "metadata": {
        "id": "0jhkZ5zhU5yL"
      },
      "source": [
        "# Calculating with booleans"
      ]
    },
    {
      "cell_type": "markdown",
      "metadata": {
        "id": "IAb0HST5U5yM"
      },
      "source": [
        "A *boolean* (type *bool*) is the smallest possible piece of data.  While an *int* can be any integer, positive or negative, a *boolean* can only be one of two things:  *True* or *False*.  In this way, booleans are useful for storing the answers to yes/no questions.  \n",
        "\n",
        "Questions about (in)equality of numbers are answered in Python by *operations* with numerical input and boolean output.  Here are some examples.  A more complete reference is [in the official Python documentation](https://docs.python.org/3/library/stdtypes.html#boolean-operations-and-or-not)."
      ]
    },
    {
      "cell_type": "code",
      "metadata": {
        "id": "AqNG6PZBU5yM",
        "colab": {
          "base_uri": "https://localhost:8080/"
        },
        "outputId": "50950e97-c4d1-4810-aeb1-b5694f6332d4"
      },
      "source": [
        "3 > 2"
      ],
      "execution_count": null,
      "outputs": [
        {
          "output_type": "execute_result",
          "data": {
            "text/plain": [
              "True"
            ]
          },
          "metadata": {},
          "execution_count": 53
        }
      ]
    },
    {
      "cell_type": "code",
      "metadata": {
        "id": "nOgi4gqUU5yM",
        "colab": {
          "base_uri": "https://localhost:8080/"
        },
        "outputId": "1f2fa7f3-bb6f-4c9e-c584-0cd2231b20d0"
      },
      "source": [
        "type(3 > 2)"
      ],
      "execution_count": null,
      "outputs": [
        {
          "output_type": "execute_result",
          "data": {
            "text/plain": [
              "bool"
            ]
          },
          "metadata": {},
          "execution_count": 52
        }
      ]
    },
    {
      "cell_type": "code",
      "metadata": {
        "id": "WabkpXPbU5yM",
        "colab": {
          "base_uri": "https://localhost:8080/"
        },
        "outputId": "5ceea0cd-e561-45d1-bafe-d879f5a96861"
      },
      "source": [
        "10 < 3"
      ],
      "execution_count": null,
      "outputs": [
        {
          "output_type": "execute_result",
          "data": {
            "text/plain": [
              "False"
            ]
          },
          "metadata": {},
          "execution_count": 54
        }
      ]
    },
    {
      "cell_type": "code",
      "metadata": {
        "id": "Mohc3o5oU5yM",
        "colab": {
          "base_uri": "https://localhost:8080/"
        },
        "outputId": "7e41ebfb-36f9-459f-ae5f-4b9872555b81"
      },
      "source": [
        "2.4 < 2.4000001"
      ],
      "execution_count": null,
      "outputs": [
        {
          "output_type": "execute_result",
          "data": {
            "text/plain": [
              "True"
            ]
          },
          "metadata": {},
          "execution_count": 55
        }
      ]
    },
    {
      "cell_type": "code",
      "metadata": {
        "id": "jnrzq17fU5yM",
        "colab": {
          "base_uri": "https://localhost:8080/"
        },
        "outputId": "f90232d1-4d3f-4844-aaeb-9d5b3e498aa8"
      },
      "source": [
        "32 >= 32"
      ],
      "execution_count": null,
      "outputs": [
        {
          "output_type": "execute_result",
          "data": {
            "text/plain": [
              "True"
            ]
          },
          "metadata": {},
          "execution_count": 58
        }
      ]
    },
    {
      "cell_type": "code",
      "metadata": {
        "id": "D55td8J7U5yM",
        "colab": {
          "base_uri": "https://localhost:8080/"
        },
        "outputId": "08bd6ff9-aeba-45cc-ecb6-5887ed8d39a3"
      },
      "source": [
        "32 >= 31"
      ],
      "execution_count": null,
      "outputs": [
        {
          "output_type": "execute_result",
          "data": {
            "text/plain": [
              "True"
            ]
          },
          "metadata": {},
          "execution_count": 57
        }
      ]
    },
    {
      "cell_type": "code",
      "metadata": {
        "id": "L0RlreGLU5yM",
        "colab": {
          "base_uri": "https://localhost:8080/"
        },
        "outputId": "f3ba66a6-d9bc-4f28-ccfa-9bdb2ee394b7"
      },
      "source": [
        "2 + 2 == 4"
      ],
      "execution_count": null,
      "outputs": [
        {
          "output_type": "execute_result",
          "data": {
            "text/plain": [
              "True"
            ]
          },
          "metadata": {},
          "execution_count": 59
        }
      ]
    },
    {
      "cell_type": "markdown",
      "source": [],
      "metadata": {
        "id": "nDxlhRcGoFLV"
      }
    },
    {
      "cell_type": "markdown",
      "metadata": {
        "id": "_f2QoYJ-U5yM"
      },
      "source": [
        "Which number is bigger:  $23^{32}$ or $32^{23}$?  Use the cell below to answer the question!"
      ]
    },
    {
      "cell_type": "code",
      "metadata": {
        "id": "PGlksxncU5yN",
        "colab": {
          "base_uri": "https://localhost:8080/"
        },
        "outputId": "1fb46ca9-231e-499b-db56-e144b00157b4"
      },
      "source": [
        "23**32 this one"
      ],
      "execution_count": null,
      "outputs": [
        {
          "output_type": "execute_result",
          "data": {
            "text/plain": [
              "37608910510519071039902074217516707306379521"
            ]
          },
          "metadata": {},
          "execution_count": 7
        }
      ]
    },
    {
      "cell_type": "code",
      "source": [
        "32**23"
      ],
      "metadata": {
        "colab": {
          "base_uri": "https://localhost:8080/"
        },
        "id": "sX4ExD91oBiS",
        "outputId": "5901d5bc-1efc-4a9b-8215-d9766c486414"
      },
      "execution_count": null,
      "outputs": [
        {
          "output_type": "execute_result",
          "data": {
            "text/plain": [
              "41538374868278621028243970633760768"
            ]
          },
          "metadata": {},
          "execution_count": 9
        }
      ]
    },
    {
      "cell_type": "markdown",
      "metadata": {
        "id": "KTiAVQ0qU5yN"
      },
      "source": [
        "The expressions `<`, `>`, `<=`, `>=` are interpreted here as **operations** with numerical input and boolean output.  The symbol `==` (two equal symbols!) gives a True result if the numbers are equal, and False if the numbers are not equal.  An extremely common typo is to confuse `=` with `==`.  But the single equality symbol `=` has an entirely different meaning, as we shall see."
      ]
    },
    {
      "cell_type": "markdown",
      "metadata": {
        "id": "3atYTyAnU5yN"
      },
      "source": [
        "Using the remainder operator `%` and equality, we obtain a divisibility test."
      ]
    },
    {
      "cell_type": "code",
      "metadata": {
        "id": "t1BCq6GFU5yN",
        "colab": {
          "base_uri": "https://localhost:8080/"
        },
        "outputId": "2b1f8d62-c29c-4ae4-f645-16c697d34502"
      },
      "source": [
        "63 % 7 == 0  # Is 63 divisible by 7?"
      ],
      "execution_count": null,
      "outputs": [
        {
          "output_type": "execute_result",
          "data": {
            "text/plain": [
              "True"
            ]
          },
          "metadata": {},
          "execution_count": 10
        }
      ]
    },
    {
      "cell_type": "code",
      "metadata": {
        "id": "kYz8XfraU5yN",
        "colab": {
          "base_uri": "https://localhost:8080/"
        },
        "outputId": "6e12a267-13fb-4f05-bd70-6c0aeef98c85"
      },
      "source": [
        "101 % 2 == 0  # Is 101 even?"
      ],
      "execution_count": null,
      "outputs": [
        {
          "output_type": "execute_result",
          "data": {
            "text/plain": [
              "False"
            ]
          },
          "metadata": {},
          "execution_count": 11
        }
      ]
    },
    {
      "cell_type": "markdown",
      "metadata": {
        "id": "0Iikx3JZU5yN"
      },
      "source": [
        "Use the cell below to determine whether 1234567890 is divisible by 3."
      ]
    },
    {
      "cell_type": "code",
      "metadata": {
        "id": "LPqBN_VlU5yN",
        "colab": {
          "base_uri": "https://localhost:8080/"
        },
        "outputId": "f217536d-e13c-494b-dfdb-4ed88ef07a28"
      },
      "source": [
        "1234567890%3"
      ],
      "execution_count": null,
      "outputs": [
        {
          "output_type": "execute_result",
          "data": {
            "text/plain": [
              "0"
            ]
          },
          "metadata": {},
          "execution_count": 13
        }
      ]
    },
    {
      "cell_type": "markdown",
      "metadata": {
        "id": "Tvle2bwdU5yN"
      },
      "source": [
        "Booleans can be operated on by the standard logical operations: and, or, not.  In ordinary English usage, \"and\" and \"or\" are conjunctions, while here in *Boolean algebra*, \"and\" and \"or\" are operations with Boolean inputs and Boolean output.  The precise meanings of \"and\" and \"or\" are given by the following **truth tables**.\n",
        "\n",
        "    \n",
        "| and | True | False |\n",
        "|-----|------|-------|\n",
        "| **True** | True | False |\n",
        "| **False** | False | False|\n",
        "\n",
        "<br>\n",
        "  \n",
        "| or | True | False |\n",
        "|-----|------|-------|\n",
        "| **True** | True | True |\n",
        "| **False** | True | False|"
      ]
    },
    {
      "cell_type": "code",
      "metadata": {
        "id": "eRo1A6IzU5yN",
        "colab": {
          "base_uri": "https://localhost:8080/"
        },
        "outputId": "b430499a-c4ba-4d59-e006-df66930cc57b"
      },
      "source": [
        "True and False"
      ],
      "execution_count": null,
      "outputs": [
        {
          "output_type": "execute_result",
          "data": {
            "text/plain": [
              "False"
            ]
          },
          "metadata": {},
          "execution_count": 61
        }
      ]
    },
    {
      "cell_type": "code",
      "metadata": {
        "id": "sFMWK-0HU5yN",
        "colab": {
          "base_uri": "https://localhost:8080/"
        },
        "outputId": "a960784e-ae49-40f0-d381-ec316dc4bf28"
      },
      "source": [
        "True or False"
      ],
      "execution_count": null,
      "outputs": [
        {
          "output_type": "execute_result",
          "data": {
            "text/plain": [
              "True"
            ]
          },
          "metadata": {},
          "execution_count": 62
        }
      ]
    },
    {
      "cell_type": "code",
      "metadata": {
        "id": "5bREtxzOU5yN",
        "colab": {
          "base_uri": "https://localhost:8080/"
        },
        "outputId": "a265344c-6237-4415-e987-e066ce88db3f"
      },
      "source": [
        "True or True"
      ],
      "execution_count": null,
      "outputs": [
        {
          "output_type": "execute_result",
          "data": {
            "text/plain": [
              "True"
            ]
          },
          "metadata": {},
          "execution_count": 63
        }
      ]
    },
    {
      "cell_type": "code",
      "metadata": {
        "id": "DP0Rw6jDU5yO",
        "colab": {
          "base_uri": "https://localhost:8080/"
        },
        "outputId": "5ffa4a0a-487d-4b62-dc18-bc39c9a4abdf"
      },
      "source": [
        "not True"
      ],
      "execution_count": null,
      "outputs": [
        {
          "output_type": "execute_result",
          "data": {
            "text/plain": [
              "False"
            ]
          },
          "metadata": {},
          "execution_count": 64
        }
      ]
    },
    {
      "cell_type": "markdown",
      "metadata": {
        "id": "DRKe3Jv8U5yO"
      },
      "source": [
        "Use the truth tables to predict the result (True or False) of each of the following, before evaluating the code."
      ]
    },
    {
      "cell_type": "code",
      "metadata": {
        "id": "NVKb_6njU5yO",
        "colab": {
          "base_uri": "https://localhost:8080/"
        },
        "outputId": "82d47a9c-6bde-4d2f-b369-33c5493b59e2"
      },
      "source": [
        "(2 > 3) and (3 > 2)"
      ],
      "execution_count": null,
      "outputs": [
        {
          "output_type": "execute_result",
          "data": {
            "text/plain": [
              "False"
            ]
          },
          "metadata": {},
          "execution_count": 65
        }
      ]
    },
    {
      "cell_type": "code",
      "metadata": {
        "id": "JrprEal6U5yO",
        "colab": {
          "base_uri": "https://localhost:8080/"
        },
        "outputId": "447f7716-8378-4078-e7dd-e7208fd6444a"
      },
      "source": [
        "(1 + 1 == 2) or (1 + 1 == 3)"
      ],
      "execution_count": null,
      "outputs": [
        {
          "output_type": "execute_result",
          "data": {
            "text/plain": [
              "True"
            ]
          },
          "metadata": {},
          "execution_count": 66
        }
      ]
    },
    {
      "cell_type": "code",
      "metadata": {
        "scrolled": true,
        "id": "Ef-ryEGjU5yO",
        "colab": {
          "base_uri": "https://localhost:8080/"
        },
        "outputId": "62a2d0f4-a9f8-488e-bddd-a6c84d471313"
      },
      "source": [
        "not (-1 + 1 >= 0)"
      ],
      "execution_count": null,
      "outputs": [
        {
          "output_type": "execute_result",
          "data": {
            "text/plain": [
              "False"
            ]
          },
          "metadata": {},
          "execution_count": 67
        }
      ]
    },
    {
      "cell_type": "code",
      "metadata": {
        "id": "FUSY_QuLU5yO",
        "colab": {
          "base_uri": "https://localhost:8080/"
        },
        "outputId": "a5c39329-9873-46bc-d0f9-f89d97f3cd39"
      },
      "source": [
        "2 + 2 == 4"
      ],
      "execution_count": null,
      "outputs": [
        {
          "output_type": "execute_result",
          "data": {
            "text/plain": [
              "True"
            ]
          },
          "metadata": {},
          "execution_count": 68
        }
      ]
    },
    {
      "cell_type": "code",
      "metadata": {
        "id": "hKTk4LjaU5yO",
        "colab": {
          "base_uri": "https://localhost:8080/"
        },
        "outputId": "83f06a82-b529-4750-c29b-ed50af007059"
      },
      "source": [
        "2 + 2 != 4  # For \"not equal\", Python uses the operation `!=`."
      ],
      "execution_count": null,
      "outputs": [
        {
          "output_type": "execute_result",
          "data": {
            "text/plain": [
              "False"
            ]
          },
          "metadata": {},
          "execution_count": 69
        }
      ]
    },
    {
      "cell_type": "code",
      "metadata": {
        "id": "UsJtoToLU5yO",
        "colab": {
          "base_uri": "https://localhost:8080/"
        },
        "outputId": "8625c918-b091-42d5-a1e2-64dad28eec3b"
      },
      "source": [
        "2 + 2 != 5  # Is 2+2 *not* equal to 5?"
      ],
      "execution_count": null,
      "outputs": [
        {
          "output_type": "execute_result",
          "data": {
            "text/plain": [
              "True"
            ]
          },
          "metadata": {},
          "execution_count": 70
        }
      ]
    },
    {
      "cell_type": "code",
      "metadata": {
        "id": "tVfKlWT_U5yO",
        "colab": {
          "base_uri": "https://localhost:8080/"
        },
        "outputId": "68758c88-b92e-4004-aae0-0a5a06a33f53"
      },
      "source": [
        "not (2 + 2 == 5)  # The same as above, but a bit longer to write."
      ],
      "execution_count": null,
      "outputs": [
        {
          "output_type": "execute_result",
          "data": {
            "text/plain": [
              "True"
            ]
          },
          "metadata": {},
          "execution_count": 71
        }
      ]
    },
    {
      "cell_type": "markdown",
      "metadata": {
        "id": "uwxFqT9uU5yO"
      },
      "source": [
        "Experiment below to see how Python handles a double or triple negative, i.e., something with a `not` `not`."
      ]
    },
    {
      "cell_type": "code",
      "metadata": {
        "id": "nD-RgY0CU5yP",
        "colab": {
          "base_uri": "https://localhost:8080/",
          "height": 130
        },
        "outputId": "d876b433-6cd9-470a-ec55-bbd0f6549258"
      },
      "source": [
        "3 !!= 5\n"
      ],
      "execution_count": null,
      "outputs": [
        {
          "output_type": "error",
          "ename": "SyntaxError",
          "evalue": "ignored",
          "traceback": [
            "\u001b[0;36m  File \u001b[0;32m\"<ipython-input-72-66ea15572617>\"\u001b[0;36m, line \u001b[0;32m1\u001b[0m\n\u001b[0;31m    3 !!= 5\u001b[0m\n\u001b[0m      ^\u001b[0m\n\u001b[0;31mSyntaxError\u001b[0m\u001b[0;31m:\u001b[0m invalid syntax\n"
          ]
        }
      ]
    },
    {
      "cell_type": "markdown",
      "metadata": {
        "id": "5xxO21m1U5yP"
      },
      "source": [
        "Python does give an interpretation to arithmetic operations with booleans and numbers.  Try to guess this interpretation with the following examples.  Change the examples to experiment!"
      ]
    },
    {
      "cell_type": "code",
      "metadata": {
        "id": "Y2lLPpdWU5yP",
        "colab": {
          "base_uri": "https://localhost:8080/"
        },
        "outputId": "8e7a5f11-820b-4e77-e924-2045fc154585"
      },
      "source": [
        "False * 100"
      ],
      "execution_count": null,
      "outputs": [
        {
          "output_type": "execute_result",
          "data": {
            "text/plain": [
              "0"
            ]
          },
          "metadata": {},
          "execution_count": 73
        }
      ]
    },
    {
      "cell_type": "code",
      "metadata": {
        "id": "5y3rtwrdU5yP",
        "colab": {
          "base_uri": "https://localhost:8080/"
        },
        "outputId": "d6d0897f-a5bf-4486-9523-dbd0189e476f"
      },
      "source": [
        "True + 13"
      ],
      "execution_count": null,
      "outputs": [
        {
          "output_type": "execute_result",
          "data": {
            "text/plain": [
              "14"
            ]
          },
          "metadata": {},
          "execution_count": 74
        }
      ]
    },
    {
      "cell_type": "markdown",
      "metadata": {
        "id": "QOkU3A_fU5yP"
      },
      "source": [
        "This ability of Python to interpret operations based on context is a mixed blessing.  On one hand, it leads to handy shortcuts -- quick ways of writing complicated programs.  On the other hand, it can lead to code that is harder to read, especially for a Python novice.  Good programmers aim for code that is easy to read, not just short!\n",
        "\n",
        "The [Zen of Python](https://www.python.org/dev/peps/pep-0020/) is a series of 20 aphorisms for Python programmers.  The first seven are below.\n",
        "\n",
        "> Beautiful is better than ugly.\n",
        "\n",
        "> Explicit is better than implicit.\n",
        "\n",
        "> Simple is better than complex.\n",
        "\n",
        "> Complex is better than complicated.\n",
        "\n",
        "> Flat is better than nested.\n",
        "\n",
        "> Sparse is better than dense.\n",
        "\n",
        "> Readability counts."
      ]
    },
    {
      "cell_type": "markdown",
      "metadata": {
        "id": "_5mUQ1tCU5yP"
      },
      "source": [
        "### Exercises\n",
        "\n",
        "1.  Did you look at the truth tables closely?  Can you remember, from memory, what `True or False` equals, or what `True and False` equals?  \n",
        "\n",
        "2.  How might you easily remember the truth tables?  How do they resemble the standard English usage of the words \"and\" and \"or\"?\n",
        "\n",
        "3.  If you wanted to know whether a number, like 2349872348723, is a multiple of 7 but **not** a multiple of 11, how might you write this in one line of Python code?\n",
        "\n",
        "4.  You can chain together `and` commands, e.g., with an expression like `True and True and True` (which would evaluate to `True`).  You can also group booleans, e.g., with `True and (True or False)`.  Experiment to figure out the order of operations (`and`, `or`, `not`) for booleans.\n",
        "\n",
        "6.  The operation `xor` means \"exclusive or\".  Its truth table is: `True xor True = False` and `False xor False = False` and `True xor False = True` and `False xor True = True`.  How might you implement `xor` in terms of the usual `and`, `or`, and `not`?\n",
        "\n"
      ]
    },
    {
      "cell_type": "code",
      "source": [
        "(2349872348723%7) == 0 and not ((2349872348723%11) ==0)\n"
      ],
      "metadata": {
        "id": "wyWZ-vfvvK6v",
        "outputId": "a8459264-c5ec-4f67-9bea-4ed94ebe94f4",
        "colab": {
          "base_uri": "https://localhost:8080/"
        }
      },
      "execution_count": null,
      "outputs": [
        {
          "output_type": "execute_result",
          "data": {
            "text/plain": [
              "False"
            ]
          },
          "metadata": {},
          "execution_count": 79
        }
      ]
    },
    {
      "cell_type": "markdown",
      "metadata": {
        "id": "owWkn3ieU5yP"
      },
      "source": [
        "###  Solutions\n",
        "\n",
        "(Edit here to give solutions to the exercises)\n",
        "\n",
        "1. yes, true, false\n",
        "\n",
        "2. i used them a lot in other math classes but they are used very similarly\n",
        "\n",
        "3. (2349872348723%7) == 0 and not ((2349872348723%11) ==0)\n",
        "\n",
        "4. true and false or true \n",
        "\n",
        "5. its kind of like \"not and\""
      ]
    },
    {
      "cell_type": "markdown",
      "metadata": {
        "id": "k69tL17JU5yP"
      },
      "source": [
        "# Declaring variables"
      ]
    },
    {
      "cell_type": "markdown",
      "metadata": {
        "id": "UjI-5d00U5yP"
      },
      "source": [
        "A central feature of programming is the declaration of variables.  When you declare a variable, you are *storing* data in the computer's *memory* and you are assigning a *name* to that data.  Both storage and name-assignment are carried out with the *single* equality symbol =."
      ]
    },
    {
      "cell_type": "code",
      "metadata": {
        "id": "hkwJHNVpU5yQ"
      },
      "source": [
        "e = 2.71828"
      ],
      "execution_count": null,
      "outputs": []
    },
    {
      "cell_type": "markdown",
      "metadata": {
        "id": "gY-LejB4U5yQ"
      },
      "source": [
        "With this command, the float 2.71828 is stored somewhere inside your computer, and Python can access this stored number by the name \"e\" thereafter.  So if you want to compute \"e squared\", a single command will do."
      ]
    },
    {
      "cell_type": "code",
      "metadata": {
        "id": "2ZJ7VtIwU5yQ",
        "colab": {
          "base_uri": "https://localhost:8080/"
        },
        "outputId": "73a4ec0c-bf91-43de-ce14-aaee9f03c832"
      },
      "source": [
        "e * e"
      ],
      "execution_count": null,
      "outputs": [
        {
          "output_type": "execute_result",
          "data": {
            "text/plain": [
              "7.3890461584"
            ]
          },
          "metadata": {},
          "execution_count": 15
        }
      ]
    },
    {
      "cell_type": "code",
      "metadata": {
        "id": "G46Ma5fCU5yQ",
        "colab": {
          "base_uri": "https://localhost:8080/"
        },
        "outputId": "753c3ec7-7e52-4292-c0b4-a3acc58e7d0f"
      },
      "source": [
        "type(e)"
      ],
      "execution_count": null,
      "outputs": [
        {
          "output_type": "execute_result",
          "data": {
            "text/plain": [
              "float"
            ]
          },
          "metadata": {},
          "execution_count": 16
        }
      ]
    },
    {
      "cell_type": "markdown",
      "metadata": {
        "id": "cWVyUzZxU5yQ"
      },
      "source": [
        "You can use just about any name you want for a variable, but your name *must* start with a letter, *must* not contain spaces, and your name *must* not be an existing Python word.  Characters in a variable name can include letters (uppercase and lowercase) and numbers and underscores `_`.  \n",
        "\n",
        "So `e` is a valid name for a variable, but `type` is a bad name.  It is very tempting for beginners to use very short abbreviation-style names for variables (like `dx` or `vbn`).  But resist that temptation and use more descriptive names for variables, like `difference_x` or `very_big_number`.  This will make your code readable by you and others!\n",
        "\n",
        "There are different style conventions for variable names.  We use lowercase names, with underscores separating words,  roughly following [Google's style conventions](https://google.github.io/styleguide/pyguide.html#Python_Style_Rules) for Python code."
      ]
    },
    {
      "cell_type": "code",
      "metadata": {
        "id": "yQN7N7ZPU5yQ"
      },
      "source": [
        "my_number = 17"
      ],
      "execution_count": null,
      "outputs": []
    },
    {
      "cell_type": "code",
      "metadata": {
        "id": "FitPq8UNU5yQ",
        "colab": {
          "base_uri": "https://localhost:8080/"
        },
        "outputId": "f8c8872b-2062-4527-c24f-8288ef3e93f4"
      },
      "source": [
        "my_number < 23"
      ],
      "execution_count": null,
      "outputs": [
        {
          "output_type": "execute_result",
          "data": {
            "text/plain": [
              "True"
            ]
          },
          "metadata": {},
          "execution_count": 18
        }
      ]
    },
    {
      "cell_type": "markdown",
      "metadata": {
        "id": "ne_mUsdnU5yQ"
      },
      "source": [
        "After you declare a variable, its value remains the same until it is changed.  You can change the value of a variable with a simple assignment.  After the above lines, the value of my_number is 17."
      ]
    },
    {
      "cell_type": "code",
      "metadata": {
        "id": "Eu-rHwt0U5yQ"
      },
      "source": [
        "my_number = 3.14"
      ],
      "execution_count": null,
      "outputs": []
    },
    {
      "cell_type": "markdown",
      "metadata": {
        "id": "cqgxOyyEU5yQ"
      },
      "source": [
        "This command reassigns the value of my_number to 3.14.  Note that it changes the type too!  It effectively overrides the previous value and replaces it with the new value.\n",
        "\n",
        "Often it is useful to change the value of a variable *incrementally* or *recursively*.  Python, like many programming languages, allows one to assign variables in a self-referential way.  What do you think the value of S will be after the following four lines?"
      ]
    },
    {
      "cell_type": "code",
      "metadata": {
        "id": "zW6_fRoxU5yR",
        "colab": {
          "base_uri": "https://localhost:8080/"
        },
        "outputId": "05e21a44-03d4-4a0f-f795-094b45d2f2ce"
      },
      "source": [
        "S = 0\n",
        "S = S + 1\n",
        "S = S + 2\n",
        "S = S + 3\n",
        "print(S)"
      ],
      "execution_count": null,
      "outputs": [
        {
          "output_type": "stream",
          "name": "stdout",
          "text": [
            "6\n"
          ]
        }
      ]
    },
    {
      "cell_type": "markdown",
      "metadata": {
        "id": "cX1eo3jZU5yR"
      },
      "source": [
        "The first line `S = 0` is the initial declaration:  the value 0 is stored in memory, and the name S is assigned to this value.\n",
        "\n",
        "The next line `S = S + 1` looks like nonsense, as an algebraic sentence.  But reading = as **assignment** rather than **equality**, you should read the line `S = S + 1` as assigning the *value* `S + 1` to the *name* `S`.  When Python interprets `S = S + 1`, it carries out the following steps.\n",
        "\n",
        "1.  Compute the value of the right side, `S+1`.  (The value is 1, since `S` was assigned the value 0 in the previous line.)\n",
        "2.  Assign the name `S` to this new value.   (Now `S` has the value 1.)\n",
        "\n",
        "Well, this is a slight lie.  Python probably does something more efficient, when given the command `S = S + 1`, since such operations are hard-wired in the computer and the Python interpreter is smart enough to take the most efficient route.  But at this level, it is most useful to think of a self-referential assignment of the form `X = expression(X)` as a two step process as above.\n",
        "\n",
        "1.  Compute the value of `expression(X)`.\n",
        "2.  Assign this value to the name `X`."
      ]
    },
    {
      "cell_type": "markdown",
      "metadata": {
        "id": "82NT9vo2U5yR"
      },
      "source": [
        "Now consider the following three commands."
      ]
    },
    {
      "cell_type": "code",
      "metadata": {
        "id": "CbT40NiuU5yR"
      },
      "source": [
        "my_number = 17\n",
        "new_number = my_number + 1\n",
        "my_number = 3.14"
      ],
      "execution_count": null,
      "outputs": []
    },
    {
      "cell_type": "markdown",
      "metadata": {
        "id": "yQz42J2dU5yR"
      },
      "source": [
        "What are the values of the variables my_number and new_number, after the execution of these three lines?\n",
        "\n",
        "To access these values, you can use the *print* function."
      ]
    },
    {
      "cell_type": "code",
      "metadata": {
        "id": "5J4rfa08U5yR",
        "colab": {
          "base_uri": "https://localhost:8080/"
        },
        "outputId": "730c7fff-1dea-4c51-f5b1-05a4dd9cfb9a"
      },
      "source": [
        "print(my_number)\n",
        "print(new_number)"
      ],
      "execution_count": null,
      "outputs": [
        {
          "output_type": "stream",
          "name": "stdout",
          "text": [
            "3.14\n",
            "18\n"
          ]
        }
      ]
    },
    {
      "cell_type": "markdown",
      "metadata": {
        "id": "DbEoFnjnU5yR"
      },
      "source": [
        "Python is an *interpreted* language, which carries out commands line-by-line from top to bottom.  So consider the three lines\n",
        "\n",
        "``` python\n",
        "my_number = 17\n",
        "new_number = my_number + 1\n",
        "my_number = 3.14\n",
        "```\n",
        "\n",
        "Line 1 sets the value of my_number to 17.  Line 2 sets the value of new_number to 18.  Line 3 sets the value of my_number to 3.14.  But Line 3 does *not* change the value of new_number at all.\n",
        "\n",
        "(This will become confusing and complicated later, as we study mutable and immutable types.)"
      ]
    },
    {
      "cell_type": "markdown",
      "metadata": {
        "id": "PFA4Q7SiU5yR"
      },
      "source": [
        "### Exercises\n",
        "\n",
        "1.  What is the difference between `=` and `==` in the Python language?\n",
        "\n",
        "2.  If the variable `x` has value `3`, and you then evaluate the Python command `x = x * x`, what will be the value of `x` after evaluation?\n",
        "\n",
        "3.  Imagine you have two variables `a` and `b`, and you want to switch their values.  How could you do this in Python?\n",
        "\n",
        "4.  Kepler's third law states that for a planet in circular orbit around an object of mass $M$, one has $4 \\pi^2 r^3 = G M t^2$.  We can use this to estimate the mass of the sun, from other astronomically observable quantities.  Look up $G$ (the gravitational constant, estimated by experiment on Earth) and $r$ (the distance from the Earth to the sun, in meters).  Compute $t$, the number of seconds it takes for the Earth to go around the sun (365.25 days).  Finally use all of this to estimate $M$, the mass of the sun.  Your solution should use 5-10 lines of Python code."
      ]
    },
    {
      "cell_type": "markdown",
      "metadata": {
        "id": "sIeJz7hUU5yR"
      },
      "source": [
        "### Solutions\n",
        "\n",
        "(Use this space to work on the exercises.  Place more code and text cells above as needed.)\n",
        "\n",
        "1. == is for booleans\n",
        "\n",
        "2. x will become 9\n",
        "\n",
        "3. c=a , a=b , b=c\n",
        "\n",
        "4."
      ]
    },
    {
      "cell_type": "markdown",
      "metadata": {
        "id": "b81C2aIPU5yS"
      },
      "source": [
        "# Lists and ranges"
      ]
    },
    {
      "cell_type": "markdown",
      "metadata": {
        "id": "iZoKvbn0U5yS"
      },
      "source": [
        "Python stands out for the central role played by *lists*.  A *list* is what it sounds like -- a list of data.  Data within a list can be of any type.  Multiple types are possible within the same list!  The basic syntax for a list is to use brackets to enclose the list items and commas to separate the list items."
      ]
    },
    {
      "cell_type": "code",
      "metadata": {
        "id": "MQRMJWrgU5yS",
        "colab": {
          "base_uri": "https://localhost:8080/"
        },
        "outputId": "ae0fa981-1389-4ea4-c556-09bf56481fa0"
      },
      "source": [
        "type([1,2,3])"
      ],
      "execution_count": null,
      "outputs": [
        {
          "output_type": "execute_result",
          "data": {
            "text/plain": [
              "list"
            ]
          },
          "metadata": {},
          "execution_count": 1
        }
      ]
    },
    {
      "cell_type": "code",
      "metadata": {
        "id": "BkTCBWhsU5yS",
        "colab": {
          "base_uri": "https://localhost:8080/"
        },
        "outputId": "e3bad4bb-183b-4532-e880-730d8b5d30be"
      },
      "source": [
        "type(['Hello',17])"
      ],
      "execution_count": null,
      "outputs": [
        {
          "output_type": "execute_result",
          "data": {
            "text/plain": [
              "list"
            ]
          },
          "metadata": {},
          "execution_count": 2
        }
      ]
    },
    {
      "cell_type": "markdown",
      "metadata": {
        "id": "DH51tlMvU5yS"
      },
      "source": [
        "There is another type called a *tuple* that we will use less often.  Tuples use parentheses for enclosure instead of brackets."
      ]
    },
    {
      "cell_type": "code",
      "metadata": {
        "id": "8m1KBuRNU5yS",
        "colab": {
          "base_uri": "https://localhost:8080/"
        },
        "outputId": "01168070-4249-4fe3-8af0-0389571f9bd1"
      },
      "source": [
        "type((1,2,3))"
      ],
      "execution_count": null,
      "outputs": [
        {
          "output_type": "execute_result",
          "data": {
            "text/plain": [
              "tuple"
            ]
          },
          "metadata": {},
          "execution_count": 3
        }
      ]
    },
    {
      "cell_type": "markdown",
      "metadata": {
        "id": "sFZr5TtpU5yS"
      },
      "source": [
        "There's another list-like type in Python 3, called the `range` type.  Ranges are kind of like lists, but instead of plunking every item into a slot of memory, ranges just have to remember three integers:  their *start*, their *stop*, and their *step*.    \n",
        "\n",
        "The `range` command creates a range with a given start, stop, and step.  If you only input one number, the range will ***start at zero*** and use ***steps of one*** and will stop ***just before*** the given stop-number.\n",
        "\n",
        "One can create a list from a range (plunking every term in the range into a slot of memory), by using the `list` command.  Here are a few examples."
      ]
    },
    {
      "cell_type": "code",
      "metadata": {
        "id": "0N_HejMiU5yS",
        "colab": {
          "base_uri": "https://localhost:8080/"
        },
        "outputId": "759ac537-c61b-45e1-dbb0-020e351b18ac"
      },
      "source": [
        "type(range(10)) # Ranges are their own type, in Python 3.x.  Not in Python 2.x!"
      ],
      "execution_count": null,
      "outputs": [
        {
          "output_type": "execute_result",
          "data": {
            "text/plain": [
              "range"
            ]
          },
          "metadata": {},
          "execution_count": 4
        }
      ]
    },
    {
      "cell_type": "code",
      "metadata": {
        "id": "XzlQhL4eU5yS",
        "colab": {
          "base_uri": "https://localhost:8080/"
        },
        "outputId": "d660e88c-e3ce-47af-f8d3-66b134df7557"
      },
      "source": [
        "list(range(10)) # Let's see what's in the range.  Note it starts at zero!  Where does it stop?"
      ],
      "execution_count": null,
      "outputs": [
        {
          "output_type": "execute_result",
          "data": {
            "text/plain": [
              "[0, 1, 2, 3, 4, 5, 6, 7, 8, 9]"
            ]
          },
          "metadata": {},
          "execution_count": 5
        }
      ]
    },
    {
      "cell_type": "markdown",
      "metadata": {
        "id": "7-TeavRKU5yS"
      },
      "source": [
        "A more complicated two-input form of the range command produces a range of integers **starting at** a given number, and **terminating before** another given number."
      ]
    },
    {
      "cell_type": "code",
      "metadata": {
        "id": "fpHHkb82U5yT",
        "colab": {
          "base_uri": "https://localhost:8080/"
        },
        "outputId": "3a692b3a-622b-4924-8afa-479b2da6d2bb"
      },
      "source": [
        "list(range(3,10))"
      ],
      "execution_count": null,
      "outputs": [
        {
          "output_type": "execute_result",
          "data": {
            "text/plain": [
              "[3, 4, 5, 6, 7, 8, 9]"
            ]
          },
          "metadata": {},
          "execution_count": 6
        }
      ]
    },
    {
      "cell_type": "code",
      "metadata": {
        "id": "O5A8XZFxU5yT",
        "colab": {
          "base_uri": "https://localhost:8080/"
        },
        "outputId": "165a6961-afb6-40b0-996f-7084db38fc3d"
      },
      "source": [
        "list(range(-4,5))"
      ],
      "execution_count": null,
      "outputs": [
        {
          "output_type": "execute_result",
          "data": {
            "text/plain": [
              "[-4, -3, -2, -1, 0, 1, 2, 3, 4]"
            ]
          },
          "metadata": {},
          "execution_count": 7
        }
      ]
    },
    {
      "cell_type": "markdown",
      "metadata": {
        "id": "dRzyphm5U5yT"
      },
      "source": [
        "This is a common source of difficulty for Python beginners.  While the first parameter (-4) is the starting point of the list, the list ends just before the second parameter (5).  This takes some getting used to, but experienced Python programmers grow to like this convention."
      ]
    },
    {
      "cell_type": "markdown",
      "metadata": {
        "id": "XderpNFAU5yT"
      },
      "source": [
        "The *length* of a list can be accessed by the len command."
      ]
    },
    {
      "cell_type": "code",
      "metadata": {
        "id": "-xjzFOxWU5yT",
        "colab": {
          "base_uri": "https://localhost:8080/"
        },
        "outputId": "95fc376b-0c90-43e2-a198-6b4f190341c4"
      },
      "source": [
        "len([2,4,6])"
      ],
      "execution_count": null,
      "outputs": [
        {
          "output_type": "execute_result",
          "data": {
            "text/plain": [
              "3"
            ]
          },
          "metadata": {},
          "execution_count": 8
        }
      ]
    },
    {
      "cell_type": "code",
      "metadata": {
        "id": "1IG2dOJeU5yT",
        "colab": {
          "base_uri": "https://localhost:8080/"
        },
        "outputId": "3718cd07-66fa-4c9f-eee7-26d09e4fae68"
      },
      "source": [
        "len(range(10))  # The len command can deal with lists and ranges.  No need to convert."
      ],
      "execution_count": null,
      "outputs": [
        {
          "output_type": "execute_result",
          "data": {
            "text/plain": [
              "10"
            ]
          },
          "metadata": {},
          "execution_count": 9
        }
      ]
    },
    {
      "cell_type": "code",
      "metadata": {
        "id": "N9lCN8-bU5yT",
        "colab": {
          "base_uri": "https://localhost:8080/"
        },
        "outputId": "c9f87a3e-e599-41c9-f891-910c1add88a6"
      },
      "source": [
        "len(range(10,100)) # Can you figure out the length, before evaluating?"
      ],
      "execution_count": null,
      "outputs": [
        {
          "output_type": "execute_result",
          "data": {
            "text/plain": [
              "90"
            ]
          },
          "metadata": {},
          "execution_count": 10
        }
      ]
    },
    {
      "cell_type": "markdown",
      "metadata": {
        "id": "zW4aiYaAU5yT"
      },
      "source": [
        "The final variant of the range command (for now) is the *three-parameter* command of the form `range(a,b,s)`.  This produces a list like `range(a,b)`, but with a \"step size\" of `s`.  In other words, it produces a list of integers, beginning at `a`, increasing by `s` from one entry to the next, and going up to (but not including) `b`.  It is best to experiment a bit to get the feel for it!"
      ]
    },
    {
      "cell_type": "code",
      "metadata": {
        "id": "RjmZQRmtU5yT",
        "colab": {
          "base_uri": "https://localhost:8080/"
        },
        "outputId": "ad68bce3-34ce-47cc-ea9f-39d357b32d49"
      },
      "source": [
        "list(range(1,10,2))"
      ],
      "execution_count": null,
      "outputs": [
        {
          "output_type": "execute_result",
          "data": {
            "text/plain": [
              "[1, 3, 5, 7, 9]"
            ]
          },
          "metadata": {},
          "execution_count": 11
        }
      ]
    },
    {
      "cell_type": "code",
      "metadata": {
        "id": "UX91kNpoU5yT",
        "colab": {
          "base_uri": "https://localhost:8080/"
        },
        "outputId": "496e766d-0358-4f56-905f-482497f6b9c3"
      },
      "source": [
        "list(range(11,30,2))"
      ],
      "execution_count": null,
      "outputs": [
        {
          "output_type": "execute_result",
          "data": {
            "text/plain": [
              "[11, 13, 15, 17, 19, 21, 23, 25, 27, 29]"
            ]
          },
          "metadata": {},
          "execution_count": 12
        }
      ]
    },
    {
      "cell_type": "code",
      "metadata": {
        "id": "cU6TYerPU5yU",
        "colab": {
          "base_uri": "https://localhost:8080/"
        },
        "outputId": "6d226486-553b-4fda-a847-037378dd7c60"
      },
      "source": [
        "list(range(-4,5,3))"
      ],
      "execution_count": null,
      "outputs": [
        {
          "output_type": "execute_result",
          "data": {
            "text/plain": [
              "[-4, -1, 2]"
            ]
          },
          "metadata": {},
          "execution_count": 13
        }
      ]
    },
    {
      "cell_type": "code",
      "metadata": {
        "id": "_RueWhdHU5yU",
        "colab": {
          "base_uri": "https://localhost:8080/"
        },
        "outputId": "18396958-538a-4644-8ec4-f7925007db41"
      },
      "source": [
        "list(range(10,100,17))"
      ],
      "execution_count": null,
      "outputs": [
        {
          "output_type": "execute_result",
          "data": {
            "text/plain": [
              "[10, 27, 44, 61, 78, 95]"
            ]
          },
          "metadata": {},
          "execution_count": 14
        }
      ]
    },
    {
      "cell_type": "markdown",
      "metadata": {
        "id": "I3otAH2AU5yU"
      },
      "source": [
        "This can be used for descending ranges too, and observe that the final number b in range(a,b,s) is not included."
      ]
    },
    {
      "cell_type": "code",
      "metadata": {
        "id": "LVm1djsTU5yU",
        "colab": {
          "base_uri": "https://localhost:8080/"
        },
        "outputId": "0dbf1c68-3683-4b54-824f-6cc78bbbb653"
      },
      "source": [
        "list(range(10,0,-1))"
      ],
      "execution_count": null,
      "outputs": [
        {
          "output_type": "execute_result",
          "data": {
            "text/plain": [
              "[10, 9, 8, 7, 6, 5, 4, 3, 2, 1]"
            ]
          },
          "metadata": {},
          "execution_count": 15
        }
      ]
    },
    {
      "cell_type": "markdown",
      "metadata": {
        "id": "Jp1V-X59U5yU"
      },
      "source": [
        "How many multiples of 7 are between 10 and 100?  We can find out pretty quickly with the range command and the len command (to count)."
      ]
    },
    {
      "cell_type": "code",
      "metadata": {
        "id": "roA4gLoXU5yU",
        "colab": {
          "base_uri": "https://localhost:8080/"
        },
        "outputId": "d4d708f4-52eb-460b-cdd8-7a07f93be5f8"
      },
      "source": [
        "list(range(10,100,7))  # What list will this create?  It won't answer the question..."
      ],
      "execution_count": null,
      "outputs": [
        {
          "output_type": "execute_result",
          "data": {
            "text/plain": [
              "[10, 17, 24, 31, 38, 45, 52, 59, 66, 73, 80, 87, 94]"
            ]
          },
          "metadata": {},
          "execution_count": 16
        }
      ]
    },
    {
      "cell_type": "code",
      "metadata": {
        "id": "jybN-evPU5yU",
        "colab": {
          "base_uri": "https://localhost:8080/"
        },
        "outputId": "d2bb2799-1fef-451e-e21c-97982052d726"
      },
      "source": [
        "list(range(14,100,7))  # Starting at 14 gives the multiples of 7."
      ],
      "execution_count": null,
      "outputs": [
        {
          "output_type": "execute_result",
          "data": {
            "text/plain": [
              "[14, 21, 28, 35, 42, 49, 56, 63, 70, 77, 84, 91, 98]"
            ]
          },
          "metadata": {},
          "execution_count": 17
        }
      ]
    },
    {
      "cell_type": "code",
      "metadata": {
        "id": "BdvLmGljU5yU",
        "colab": {
          "base_uri": "https://localhost:8080/"
        },
        "outputId": "dfb75b00-96a3-43f6-cd5e-96ee0928a6b2"
      },
      "source": [
        "len(range(14,100,7))  # Gives the length of the list, and answers the question!"
      ],
      "execution_count": null,
      "outputs": [
        {
          "output_type": "execute_result",
          "data": {
            "text/plain": [
              "13"
            ]
          },
          "metadata": {},
          "execution_count": 18
        }
      ]
    },
    {
      "cell_type": "markdown",
      "metadata": {
        "id": "dMbcJV5UU5yU"
      },
      "source": [
        "### Exercises\n",
        "\n",
        "1.  If `a` and `b` are integers, what is the length of `range(a,b)`?  Express your answer as a formula involving `a` and `b`.\n",
        "\n",
        "2.  Use a list and range command to produce the list `[1,2,3,4,5,6,7,8,9,10]`.\n",
        "\n",
        "3.  Create the list `[1,2,3,4,5,1,2,3,4,5,1,2,3,4,5,1,2,3,4,5,1,2,3,4,5]` with a single list and range command and another operation.\n",
        "\n",
        "4.  How many multiples of 3 are there between 300 and 3000 (including 300 and 3000)?"
      ]
    },
    {
      "cell_type": "code",
      "metadata": {
        "id": "4HKDVcFVU5yU",
        "colab": {
          "base_uri": "https://localhost:8080/"
        },
        "outputId": "91d04506-ea5f-4176-8336-a94ca000c8aa"
      },
      "source": [
        "#  Use this space to work on the exercises.\n",
        "len(range(2,5))\n",
        "it will be b-a"
      ],
      "execution_count": null,
      "outputs": [
        {
          "output_type": "execute_result",
          "data": {
            "text/plain": [
              "3"
            ]
          },
          "metadata": {},
          "execution_count": 20
        }
      ]
    },
    {
      "cell_type": "code",
      "source": [
        "list(range(1,11))"
      ],
      "metadata": {
        "colab": {
          "base_uri": "https://localhost:8080/"
        },
        "id": "X0UIB1rYWVQg",
        "outputId": "ea7ec2c9-a100-45db-de5f-6644058737bf"
      },
      "execution_count": null,
      "outputs": [
        {
          "output_type": "execute_result",
          "data": {
            "text/plain": [
              "[1, 2, 3, 4, 5, 6, 7, 8, 9, 10]"
            ]
          },
          "metadata": {},
          "execution_count": 27
        }
      ]
    },
    {
      "cell_type": "code",
      "source": [
        "5*list(range(1,6))"
      ],
      "metadata": {
        "colab": {
          "base_uri": "https://localhost:8080/"
        },
        "id": "yH7cIsWeXGzn",
        "outputId": "b3aae665-37ac-4a5d-885a-561b6a9f7a1f"
      },
      "execution_count": null,
      "outputs": [
        {
          "output_type": "execute_result",
          "data": {
            "text/plain": [
              "[1, 2, 3, 4, 5, 1, 2, 3, 4, 5, 1, 2, 3, 4, 5, 1, 2, 3, 4, 5, 1, 2, 3, 4, 5]"
            ]
          },
          "metadata": {},
          "execution_count": 32
        }
      ]
    },
    {
      "cell_type": "code",
      "source": [
        "list(range(300,3001,3))"
      ],
      "metadata": {
        "colab": {
          "base_uri": "https://localhost:8080/"
        },
        "id": "aL0QPCBQXSi8",
        "outputId": "d57847ec-9469-4a3d-bd52-cb6e568a783a"
      },
      "execution_count": null,
      "outputs": [
        {
          "output_type": "execute_result",
          "data": {
            "text/plain": [
              "[300,\n",
              " 303,\n",
              " 306,\n",
              " 309,\n",
              " 312,\n",
              " 315,\n",
              " 318,\n",
              " 321,\n",
              " 324,\n",
              " 327,\n",
              " 330,\n",
              " 333,\n",
              " 336,\n",
              " 339,\n",
              " 342,\n",
              " 345,\n",
              " 348,\n",
              " 351,\n",
              " 354,\n",
              " 357,\n",
              " 360,\n",
              " 363,\n",
              " 366,\n",
              " 369,\n",
              " 372,\n",
              " 375,\n",
              " 378,\n",
              " 381,\n",
              " 384,\n",
              " 387,\n",
              " 390,\n",
              " 393,\n",
              " 396,\n",
              " 399,\n",
              " 402,\n",
              " 405,\n",
              " 408,\n",
              " 411,\n",
              " 414,\n",
              " 417,\n",
              " 420,\n",
              " 423,\n",
              " 426,\n",
              " 429,\n",
              " 432,\n",
              " 435,\n",
              " 438,\n",
              " 441,\n",
              " 444,\n",
              " 447,\n",
              " 450,\n",
              " 453,\n",
              " 456,\n",
              " 459,\n",
              " 462,\n",
              " 465,\n",
              " 468,\n",
              " 471,\n",
              " 474,\n",
              " 477,\n",
              " 480,\n",
              " 483,\n",
              " 486,\n",
              " 489,\n",
              " 492,\n",
              " 495,\n",
              " 498,\n",
              " 501,\n",
              " 504,\n",
              " 507,\n",
              " 510,\n",
              " 513,\n",
              " 516,\n",
              " 519,\n",
              " 522,\n",
              " 525,\n",
              " 528,\n",
              " 531,\n",
              " 534,\n",
              " 537,\n",
              " 540,\n",
              " 543,\n",
              " 546,\n",
              " 549,\n",
              " 552,\n",
              " 555,\n",
              " 558,\n",
              " 561,\n",
              " 564,\n",
              " 567,\n",
              " 570,\n",
              " 573,\n",
              " 576,\n",
              " 579,\n",
              " 582,\n",
              " 585,\n",
              " 588,\n",
              " 591,\n",
              " 594,\n",
              " 597,\n",
              " 600,\n",
              " 603,\n",
              " 606,\n",
              " 609,\n",
              " 612,\n",
              " 615,\n",
              " 618,\n",
              " 621,\n",
              " 624,\n",
              " 627,\n",
              " 630,\n",
              " 633,\n",
              " 636,\n",
              " 639,\n",
              " 642,\n",
              " 645,\n",
              " 648,\n",
              " 651,\n",
              " 654,\n",
              " 657,\n",
              " 660,\n",
              " 663,\n",
              " 666,\n",
              " 669,\n",
              " 672,\n",
              " 675,\n",
              " 678,\n",
              " 681,\n",
              " 684,\n",
              " 687,\n",
              " 690,\n",
              " 693,\n",
              " 696,\n",
              " 699,\n",
              " 702,\n",
              " 705,\n",
              " 708,\n",
              " 711,\n",
              " 714,\n",
              " 717,\n",
              " 720,\n",
              " 723,\n",
              " 726,\n",
              " 729,\n",
              " 732,\n",
              " 735,\n",
              " 738,\n",
              " 741,\n",
              " 744,\n",
              " 747,\n",
              " 750,\n",
              " 753,\n",
              " 756,\n",
              " 759,\n",
              " 762,\n",
              " 765,\n",
              " 768,\n",
              " 771,\n",
              " 774,\n",
              " 777,\n",
              " 780,\n",
              " 783,\n",
              " 786,\n",
              " 789,\n",
              " 792,\n",
              " 795,\n",
              " 798,\n",
              " 801,\n",
              " 804,\n",
              " 807,\n",
              " 810,\n",
              " 813,\n",
              " 816,\n",
              " 819,\n",
              " 822,\n",
              " 825,\n",
              " 828,\n",
              " 831,\n",
              " 834,\n",
              " 837,\n",
              " 840,\n",
              " 843,\n",
              " 846,\n",
              " 849,\n",
              " 852,\n",
              " 855,\n",
              " 858,\n",
              " 861,\n",
              " 864,\n",
              " 867,\n",
              " 870,\n",
              " 873,\n",
              " 876,\n",
              " 879,\n",
              " 882,\n",
              " 885,\n",
              " 888,\n",
              " 891,\n",
              " 894,\n",
              " 897,\n",
              " 900,\n",
              " 903,\n",
              " 906,\n",
              " 909,\n",
              " 912,\n",
              " 915,\n",
              " 918,\n",
              " 921,\n",
              " 924,\n",
              " 927,\n",
              " 930,\n",
              " 933,\n",
              " 936,\n",
              " 939,\n",
              " 942,\n",
              " 945,\n",
              " 948,\n",
              " 951,\n",
              " 954,\n",
              " 957,\n",
              " 960,\n",
              " 963,\n",
              " 966,\n",
              " 969,\n",
              " 972,\n",
              " 975,\n",
              " 978,\n",
              " 981,\n",
              " 984,\n",
              " 987,\n",
              " 990,\n",
              " 993,\n",
              " 996,\n",
              " 999,\n",
              " 1002,\n",
              " 1005,\n",
              " 1008,\n",
              " 1011,\n",
              " 1014,\n",
              " 1017,\n",
              " 1020,\n",
              " 1023,\n",
              " 1026,\n",
              " 1029,\n",
              " 1032,\n",
              " 1035,\n",
              " 1038,\n",
              " 1041,\n",
              " 1044,\n",
              " 1047,\n",
              " 1050,\n",
              " 1053,\n",
              " 1056,\n",
              " 1059,\n",
              " 1062,\n",
              " 1065,\n",
              " 1068,\n",
              " 1071,\n",
              " 1074,\n",
              " 1077,\n",
              " 1080,\n",
              " 1083,\n",
              " 1086,\n",
              " 1089,\n",
              " 1092,\n",
              " 1095,\n",
              " 1098,\n",
              " 1101,\n",
              " 1104,\n",
              " 1107,\n",
              " 1110,\n",
              " 1113,\n",
              " 1116,\n",
              " 1119,\n",
              " 1122,\n",
              " 1125,\n",
              " 1128,\n",
              " 1131,\n",
              " 1134,\n",
              " 1137,\n",
              " 1140,\n",
              " 1143,\n",
              " 1146,\n",
              " 1149,\n",
              " 1152,\n",
              " 1155,\n",
              " 1158,\n",
              " 1161,\n",
              " 1164,\n",
              " 1167,\n",
              " 1170,\n",
              " 1173,\n",
              " 1176,\n",
              " 1179,\n",
              " 1182,\n",
              " 1185,\n",
              " 1188,\n",
              " 1191,\n",
              " 1194,\n",
              " 1197,\n",
              " 1200,\n",
              " 1203,\n",
              " 1206,\n",
              " 1209,\n",
              " 1212,\n",
              " 1215,\n",
              " 1218,\n",
              " 1221,\n",
              " 1224,\n",
              " 1227,\n",
              " 1230,\n",
              " 1233,\n",
              " 1236,\n",
              " 1239,\n",
              " 1242,\n",
              " 1245,\n",
              " 1248,\n",
              " 1251,\n",
              " 1254,\n",
              " 1257,\n",
              " 1260,\n",
              " 1263,\n",
              " 1266,\n",
              " 1269,\n",
              " 1272,\n",
              " 1275,\n",
              " 1278,\n",
              " 1281,\n",
              " 1284,\n",
              " 1287,\n",
              " 1290,\n",
              " 1293,\n",
              " 1296,\n",
              " 1299,\n",
              " 1302,\n",
              " 1305,\n",
              " 1308,\n",
              " 1311,\n",
              " 1314,\n",
              " 1317,\n",
              " 1320,\n",
              " 1323,\n",
              " 1326,\n",
              " 1329,\n",
              " 1332,\n",
              " 1335,\n",
              " 1338,\n",
              " 1341,\n",
              " 1344,\n",
              " 1347,\n",
              " 1350,\n",
              " 1353,\n",
              " 1356,\n",
              " 1359,\n",
              " 1362,\n",
              " 1365,\n",
              " 1368,\n",
              " 1371,\n",
              " 1374,\n",
              " 1377,\n",
              " 1380,\n",
              " 1383,\n",
              " 1386,\n",
              " 1389,\n",
              " 1392,\n",
              " 1395,\n",
              " 1398,\n",
              " 1401,\n",
              " 1404,\n",
              " 1407,\n",
              " 1410,\n",
              " 1413,\n",
              " 1416,\n",
              " 1419,\n",
              " 1422,\n",
              " 1425,\n",
              " 1428,\n",
              " 1431,\n",
              " 1434,\n",
              " 1437,\n",
              " 1440,\n",
              " 1443,\n",
              " 1446,\n",
              " 1449,\n",
              " 1452,\n",
              " 1455,\n",
              " 1458,\n",
              " 1461,\n",
              " 1464,\n",
              " 1467,\n",
              " 1470,\n",
              " 1473,\n",
              " 1476,\n",
              " 1479,\n",
              " 1482,\n",
              " 1485,\n",
              " 1488,\n",
              " 1491,\n",
              " 1494,\n",
              " 1497,\n",
              " 1500,\n",
              " 1503,\n",
              " 1506,\n",
              " 1509,\n",
              " 1512,\n",
              " 1515,\n",
              " 1518,\n",
              " 1521,\n",
              " 1524,\n",
              " 1527,\n",
              " 1530,\n",
              " 1533,\n",
              " 1536,\n",
              " 1539,\n",
              " 1542,\n",
              " 1545,\n",
              " 1548,\n",
              " 1551,\n",
              " 1554,\n",
              " 1557,\n",
              " 1560,\n",
              " 1563,\n",
              " 1566,\n",
              " 1569,\n",
              " 1572,\n",
              " 1575,\n",
              " 1578,\n",
              " 1581,\n",
              " 1584,\n",
              " 1587,\n",
              " 1590,\n",
              " 1593,\n",
              " 1596,\n",
              " 1599,\n",
              " 1602,\n",
              " 1605,\n",
              " 1608,\n",
              " 1611,\n",
              " 1614,\n",
              " 1617,\n",
              " 1620,\n",
              " 1623,\n",
              " 1626,\n",
              " 1629,\n",
              " 1632,\n",
              " 1635,\n",
              " 1638,\n",
              " 1641,\n",
              " 1644,\n",
              " 1647,\n",
              " 1650,\n",
              " 1653,\n",
              " 1656,\n",
              " 1659,\n",
              " 1662,\n",
              " 1665,\n",
              " 1668,\n",
              " 1671,\n",
              " 1674,\n",
              " 1677,\n",
              " 1680,\n",
              " 1683,\n",
              " 1686,\n",
              " 1689,\n",
              " 1692,\n",
              " 1695,\n",
              " 1698,\n",
              " 1701,\n",
              " 1704,\n",
              " 1707,\n",
              " 1710,\n",
              " 1713,\n",
              " 1716,\n",
              " 1719,\n",
              " 1722,\n",
              " 1725,\n",
              " 1728,\n",
              " 1731,\n",
              " 1734,\n",
              " 1737,\n",
              " 1740,\n",
              " 1743,\n",
              " 1746,\n",
              " 1749,\n",
              " 1752,\n",
              " 1755,\n",
              " 1758,\n",
              " 1761,\n",
              " 1764,\n",
              " 1767,\n",
              " 1770,\n",
              " 1773,\n",
              " 1776,\n",
              " 1779,\n",
              " 1782,\n",
              " 1785,\n",
              " 1788,\n",
              " 1791,\n",
              " 1794,\n",
              " 1797,\n",
              " 1800,\n",
              " 1803,\n",
              " 1806,\n",
              " 1809,\n",
              " 1812,\n",
              " 1815,\n",
              " 1818,\n",
              " 1821,\n",
              " 1824,\n",
              " 1827,\n",
              " 1830,\n",
              " 1833,\n",
              " 1836,\n",
              " 1839,\n",
              " 1842,\n",
              " 1845,\n",
              " 1848,\n",
              " 1851,\n",
              " 1854,\n",
              " 1857,\n",
              " 1860,\n",
              " 1863,\n",
              " 1866,\n",
              " 1869,\n",
              " 1872,\n",
              " 1875,\n",
              " 1878,\n",
              " 1881,\n",
              " 1884,\n",
              " 1887,\n",
              " 1890,\n",
              " 1893,\n",
              " 1896,\n",
              " 1899,\n",
              " 1902,\n",
              " 1905,\n",
              " 1908,\n",
              " 1911,\n",
              " 1914,\n",
              " 1917,\n",
              " 1920,\n",
              " 1923,\n",
              " 1926,\n",
              " 1929,\n",
              " 1932,\n",
              " 1935,\n",
              " 1938,\n",
              " 1941,\n",
              " 1944,\n",
              " 1947,\n",
              " 1950,\n",
              " 1953,\n",
              " 1956,\n",
              " 1959,\n",
              " 1962,\n",
              " 1965,\n",
              " 1968,\n",
              " 1971,\n",
              " 1974,\n",
              " 1977,\n",
              " 1980,\n",
              " 1983,\n",
              " 1986,\n",
              " 1989,\n",
              " 1992,\n",
              " 1995,\n",
              " 1998,\n",
              " 2001,\n",
              " 2004,\n",
              " 2007,\n",
              " 2010,\n",
              " 2013,\n",
              " 2016,\n",
              " 2019,\n",
              " 2022,\n",
              " 2025,\n",
              " 2028,\n",
              " 2031,\n",
              " 2034,\n",
              " 2037,\n",
              " 2040,\n",
              " 2043,\n",
              " 2046,\n",
              " 2049,\n",
              " 2052,\n",
              " 2055,\n",
              " 2058,\n",
              " 2061,\n",
              " 2064,\n",
              " 2067,\n",
              " 2070,\n",
              " 2073,\n",
              " 2076,\n",
              " 2079,\n",
              " 2082,\n",
              " 2085,\n",
              " 2088,\n",
              " 2091,\n",
              " 2094,\n",
              " 2097,\n",
              " 2100,\n",
              " 2103,\n",
              " 2106,\n",
              " 2109,\n",
              " 2112,\n",
              " 2115,\n",
              " 2118,\n",
              " 2121,\n",
              " 2124,\n",
              " 2127,\n",
              " 2130,\n",
              " 2133,\n",
              " 2136,\n",
              " 2139,\n",
              " 2142,\n",
              " 2145,\n",
              " 2148,\n",
              " 2151,\n",
              " 2154,\n",
              " 2157,\n",
              " 2160,\n",
              " 2163,\n",
              " 2166,\n",
              " 2169,\n",
              " 2172,\n",
              " 2175,\n",
              " 2178,\n",
              " 2181,\n",
              " 2184,\n",
              " 2187,\n",
              " 2190,\n",
              " 2193,\n",
              " 2196,\n",
              " 2199,\n",
              " 2202,\n",
              " 2205,\n",
              " 2208,\n",
              " 2211,\n",
              " 2214,\n",
              " 2217,\n",
              " 2220,\n",
              " 2223,\n",
              " 2226,\n",
              " 2229,\n",
              " 2232,\n",
              " 2235,\n",
              " 2238,\n",
              " 2241,\n",
              " 2244,\n",
              " 2247,\n",
              " 2250,\n",
              " 2253,\n",
              " 2256,\n",
              " 2259,\n",
              " 2262,\n",
              " 2265,\n",
              " 2268,\n",
              " 2271,\n",
              " 2274,\n",
              " 2277,\n",
              " 2280,\n",
              " 2283,\n",
              " 2286,\n",
              " 2289,\n",
              " 2292,\n",
              " 2295,\n",
              " 2298,\n",
              " 2301,\n",
              " 2304,\n",
              " 2307,\n",
              " 2310,\n",
              " 2313,\n",
              " 2316,\n",
              " 2319,\n",
              " 2322,\n",
              " 2325,\n",
              " 2328,\n",
              " 2331,\n",
              " 2334,\n",
              " 2337,\n",
              " 2340,\n",
              " 2343,\n",
              " 2346,\n",
              " 2349,\n",
              " 2352,\n",
              " 2355,\n",
              " 2358,\n",
              " 2361,\n",
              " 2364,\n",
              " 2367,\n",
              " 2370,\n",
              " 2373,\n",
              " 2376,\n",
              " 2379,\n",
              " 2382,\n",
              " 2385,\n",
              " 2388,\n",
              " 2391,\n",
              " 2394,\n",
              " 2397,\n",
              " 2400,\n",
              " 2403,\n",
              " 2406,\n",
              " 2409,\n",
              " 2412,\n",
              " 2415,\n",
              " 2418,\n",
              " 2421,\n",
              " 2424,\n",
              " 2427,\n",
              " 2430,\n",
              " 2433,\n",
              " 2436,\n",
              " 2439,\n",
              " 2442,\n",
              " 2445,\n",
              " 2448,\n",
              " 2451,\n",
              " 2454,\n",
              " 2457,\n",
              " 2460,\n",
              " 2463,\n",
              " 2466,\n",
              " 2469,\n",
              " 2472,\n",
              " 2475,\n",
              " 2478,\n",
              " 2481,\n",
              " 2484,\n",
              " 2487,\n",
              " 2490,\n",
              " 2493,\n",
              " 2496,\n",
              " 2499,\n",
              " 2502,\n",
              " 2505,\n",
              " 2508,\n",
              " 2511,\n",
              " 2514,\n",
              " 2517,\n",
              " 2520,\n",
              " 2523,\n",
              " 2526,\n",
              " 2529,\n",
              " 2532,\n",
              " 2535,\n",
              " 2538,\n",
              " 2541,\n",
              " 2544,\n",
              " 2547,\n",
              " 2550,\n",
              " 2553,\n",
              " 2556,\n",
              " 2559,\n",
              " 2562,\n",
              " 2565,\n",
              " 2568,\n",
              " 2571,\n",
              " 2574,\n",
              " 2577,\n",
              " 2580,\n",
              " 2583,\n",
              " 2586,\n",
              " 2589,\n",
              " 2592,\n",
              " 2595,\n",
              " 2598,\n",
              " 2601,\n",
              " 2604,\n",
              " 2607,\n",
              " 2610,\n",
              " 2613,\n",
              " 2616,\n",
              " 2619,\n",
              " 2622,\n",
              " 2625,\n",
              " 2628,\n",
              " 2631,\n",
              " 2634,\n",
              " 2637,\n",
              " 2640,\n",
              " 2643,\n",
              " 2646,\n",
              " 2649,\n",
              " 2652,\n",
              " 2655,\n",
              " 2658,\n",
              " 2661,\n",
              " 2664,\n",
              " 2667,\n",
              " 2670,\n",
              " 2673,\n",
              " 2676,\n",
              " 2679,\n",
              " 2682,\n",
              " 2685,\n",
              " 2688,\n",
              " 2691,\n",
              " 2694,\n",
              " 2697,\n",
              " 2700,\n",
              " 2703,\n",
              " 2706,\n",
              " 2709,\n",
              " 2712,\n",
              " 2715,\n",
              " 2718,\n",
              " 2721,\n",
              " 2724,\n",
              " 2727,\n",
              " 2730,\n",
              " 2733,\n",
              " 2736,\n",
              " 2739,\n",
              " 2742,\n",
              " 2745,\n",
              " 2748,\n",
              " 2751,\n",
              " 2754,\n",
              " 2757,\n",
              " 2760,\n",
              " 2763,\n",
              " 2766,\n",
              " 2769,\n",
              " 2772,\n",
              " 2775,\n",
              " 2778,\n",
              " 2781,\n",
              " 2784,\n",
              " 2787,\n",
              " 2790,\n",
              " 2793,\n",
              " 2796,\n",
              " 2799,\n",
              " 2802,\n",
              " 2805,\n",
              " 2808,\n",
              " 2811,\n",
              " 2814,\n",
              " 2817,\n",
              " 2820,\n",
              " 2823,\n",
              " 2826,\n",
              " 2829,\n",
              " 2832,\n",
              " 2835,\n",
              " 2838,\n",
              " 2841,\n",
              " 2844,\n",
              " 2847,\n",
              " 2850,\n",
              " 2853,\n",
              " 2856,\n",
              " 2859,\n",
              " 2862,\n",
              " 2865,\n",
              " 2868,\n",
              " 2871,\n",
              " 2874,\n",
              " 2877,\n",
              " 2880,\n",
              " 2883,\n",
              " 2886,\n",
              " 2889,\n",
              " 2892,\n",
              " 2895,\n",
              " 2898,\n",
              " 2901,\n",
              " 2904,\n",
              " 2907,\n",
              " 2910,\n",
              " 2913,\n",
              " 2916,\n",
              " 2919,\n",
              " 2922,\n",
              " 2925,\n",
              " 2928,\n",
              " 2931,\n",
              " 2934,\n",
              " 2937,\n",
              " 2940,\n",
              " 2943,\n",
              " 2946,\n",
              " 2949,\n",
              " 2952,\n",
              " 2955,\n",
              " 2958,\n",
              " 2961,\n",
              " 2964,\n",
              " 2967,\n",
              " 2970,\n",
              " 2973,\n",
              " 2976,\n",
              " 2979,\n",
              " 2982,\n",
              " 2985,\n",
              " 2988,\n",
              " 2991,\n",
              " 2994,\n",
              " 2997,\n",
              " 3000]"
            ]
          },
          "metadata": {},
          "execution_count": 34
        }
      ]
    },
    {
      "cell_type": "markdown",
      "metadata": {
        "id": "ccSW2BGyU5yV"
      },
      "source": [
        "# Iterating over a range"
      ]
    },
    {
      "cell_type": "code",
      "source": [],
      "metadata": {
        "id": "SAX4Qf6lXRiq"
      },
      "execution_count": null,
      "outputs": []
    },
    {
      "cell_type": "markdown",
      "metadata": {
        "id": "qoOhvB1rU5yV"
      },
      "source": [
        "Computers are excellent at repetitive reliable tasks.  If we wish to perform a similar computation, many times over, a computer a great tool.  Here we look at a common and simple way to carry out a repetetive computation:  the \"for loop\".  The \"for loop\" *iterates* through items in a list or range, carrying out some action for each item.  Two examples will illustrate."
      ]
    },
    {
      "cell_type": "code",
      "metadata": {
        "id": "mwdKBi3kU5yV",
        "colab": {
          "base_uri": "https://localhost:8080/"
        },
        "outputId": "9e6a6d1d-8030-48e2-a31a-bb0454019b3c"
      },
      "source": [
        "for n in [1,2,3,4,5]:\n",
        "    print(n*n)"
      ],
      "execution_count": null,
      "outputs": [
        {
          "output_type": "stream",
          "name": "stdout",
          "text": [
            "1\n",
            "4\n",
            "9\n",
            "16\n",
            "25\n"
          ]
        }
      ]
    },
    {
      "cell_type": "code",
      "metadata": {
        "id": "HC031A4LU5yV",
        "colab": {
          "base_uri": "https://localhost:8080/"
        },
        "outputId": "dcdb5125-095e-45ad-ab57-bcac810dfefe"
      },
      "source": [
        "for s in ['I','Am','Python']:\n",
        "    print(s + \"!\")"
      ],
      "execution_count": null,
      "outputs": [
        {
          "output_type": "stream",
          "name": "stdout",
          "text": [
            "I!\n",
            "Am!\n",
            "Python!\n"
          ]
        }
      ]
    },
    {
      "cell_type": "markdown",
      "metadata": {
        "id": "yuctH9OZU5yV"
      },
      "source": [
        "The first loop, **unraveled**, carries out the following sequence of commands."
      ]
    },
    {
      "cell_type": "code",
      "metadata": {
        "id": "UY4izCfvU5yV",
        "colab": {
          "base_uri": "https://localhost:8080/"
        },
        "outputId": "70fc8e10-dff8-4554-c3bd-e594490973de"
      },
      "source": [
        "n = 1\n",
        "print(n*n)\n",
        "n = 2\n",
        "print(n*n)\n",
        "n = 3\n",
        "print(n*n)\n",
        "n = 4\n",
        "print(n*n)\n",
        "n = 5\n",
        "print(n*n)"
      ],
      "execution_count": null,
      "outputs": [
        {
          "output_type": "stream",
          "name": "stdout",
          "text": [
            "1\n",
            "4\n",
            "9\n",
            "16\n",
            "25\n"
          ]
        }
      ]
    },
    {
      "cell_type": "markdown",
      "metadata": {
        "id": "IgnUBVI0U5yV"
      },
      "source": [
        "But the \"for loop\" is more efficient *and* more readable to programmers.  Indeed, it saves the repetition of writing the same command `print(n*n)` over and over again.  It also makes transparent, from the beginning, the range of values that `n` is assigned to.  \n",
        "\n",
        "When you read and write \"for loops\", you should consider how they look unravelled -- that is how Python will carry out the loop.  And when you find yourself faced with a repetetive task, you might consider whether it may be wrapped up in a for loop.  Most of the time, you should try to write code that *never repeats* the same task.  If there is repetition, wrap it in a loop."
      ]
    },
    {
      "cell_type": "markdown",
      "metadata": {
        "id": "M16fubaDU5yV"
      },
      "source": [
        "Try to unravel the loop below, and predict the result, before evaluating the code."
      ]
    },
    {
      "cell_type": "code",
      "metadata": {
        "id": "vOyvFfJcU5yW",
        "colab": {
          "base_uri": "https://localhost:8080/"
        },
        "outputId": "ed0a801b-8efc-44e6-829c-0eb8ced0f464"
      },
      "source": [
        "P = 1\n",
        "for n in range(1,6):\n",
        "    P = P * n\n",
        "print(P)"
      ],
      "execution_count": null,
      "outputs": [
        {
          "output_type": "stream",
          "name": "stdout",
          "text": [
            "120\n"
          ]
        }
      ]
    },
    {
      "cell_type": "markdown",
      "metadata": {
        "id": "I79mIz44U5yW"
      },
      "source": [
        "This might have been difficult!  So what if you want to trace through the loop, as it goes?  Sometimes, especially when debugging, it's useful to inspect every step of the loop to see what Python is doing.  We can inspect the loop above, by inserting a print command within the *scope* of the loop."
      ]
    },
    {
      "cell_type": "code",
      "metadata": {
        "id": "C6bVCkZdU5yW",
        "colab": {
          "base_uri": "https://localhost:8080/"
        },
        "outputId": "c117d8af-f48d-40f3-8c7b-ac38a3b06c7e"
      },
      "source": [
        "P = 1\n",
        "for n in range(1,6):\n",
        "    P = P * n\n",
        "    print(\"n is\",n,\"and P is\",P)\n",
        "print(P)"
      ],
      "execution_count": null,
      "outputs": [
        {
          "output_type": "stream",
          "name": "stdout",
          "text": [
            "n is 1 and P is 1\n",
            "n is 2 and P is 2\n",
            "n is 3 and P is 6\n",
            "n is 4 and P is 24\n",
            "n is 5 and P is 120\n",
            "120\n"
          ]
        }
      ]
    },
    {
      "cell_type": "markdown",
      "metadata": {
        "id": "y8kjJUJAU5yW"
      },
      "source": [
        "Here we have used the *print* command with strings and numbers together.  In Python 3.x, you can print multiple things on the same line by separating them by commas.  The \"things\" can be strings (enclosed by single or double-quotes) and numbers (int, float, etc.)."
      ]
    },
    {
      "cell_type": "code",
      "metadata": {
        "id": "wUu0BH2lU5yW",
        "colab": {
          "base_uri": "https://localhost:8080/"
        },
        "outputId": "a16ffbf2-069f-40c0-b1bd-4c79cbe413c5"
      },
      "source": [
        "print(\"My favorite number is\",17)"
      ],
      "execution_count": null,
      "outputs": [
        {
          "output_type": "stream",
          "name": "stdout",
          "text": [
            "My favorite number is 17\n"
          ]
        }
      ]
    },
    {
      "cell_type": "markdown",
      "metadata": {
        "id": "TPCXSm1LU5yW"
      },
      "source": [
        "If we unravel the loop above, the linear sequence of commands interpreted by Python is the following."
      ]
    },
    {
      "cell_type": "code",
      "metadata": {
        "id": "KzUl3ac7U5yW"
      },
      "source": [
        "P = 1\n",
        "n = 1\n",
        "P = P * n\n",
        "print(\"n is\",n,\"and P is\",P)\n",
        "n = 2\n",
        "P = P * n\n",
        "print(\"n is\",n,\"and P is\",P)\n",
        "n = 3\n",
        "P = P * n\n",
        "print(\"n is\",n,\"and P is\",P)\n",
        "n = 4\n",
        "P = P * n\n",
        "print(\"n is\",n,\"and P is\",P)\n",
        "n = 5\n",
        "P = P * n\n",
        "print(\"n is\",n,\"and P is\",P)\n",
        "print (P)"
      ],
      "execution_count": null,
      "outputs": []
    },
    {
      "cell_type": "markdown",
      "metadata": {
        "id": "44_u1MSrU5yW"
      },
      "source": [
        "Let's analyze the loop syntax in more detail.  \n",
        "```python\n",
        "P = 1\n",
        "for n in range(1,6):\n",
        "    P = P * n  # this command is in the scope of the loop.\n",
        "    print(\"n is\",n,\"and P is\",P)  # this command is in the scope of the loop too!\n",
        "print(P)\n",
        "```\n",
        "The \"for\" command ends with a colon `:`, and the **next two** lines are indented.  The colon and indentation are indicators of **scope**.  The *scope* of the for loop begins after the colon, and includes all indented lines.  The *scope* of the for loop is what is repeated in every step of the loop (in addition to the reassignment of `n`).  "
      ]
    },
    {
      "cell_type": "code",
      "metadata": {
        "id": "jE003_YTU5yW",
        "colab": {
          "base_uri": "https://localhost:8080/"
        },
        "outputId": "d92e5a1e-38a5-411b-94c4-51a163c78bf4"
      },
      "source": [
        "P = 1\n",
        "for n in range(1,6):\n",
        "    P = P * n  # this command is in the scope of the loop.\n",
        "    print(\"n is\",n,\"and P is\",P)  # this command is in the scope of the loop too!\n",
        "print(P)"
      ],
      "execution_count": null,
      "outputs": [
        {
          "output_type": "stream",
          "name": "stdout",
          "text": [
            "n is 1 and P is 1\n",
            "n is 2 and P is 2\n",
            "n is 3 and P is 6\n",
            "n is 4 and P is 24\n",
            "n is 5 and P is 120\n",
            "120\n"
          ]
        }
      ]
    },
    {
      "cell_type": "markdown",
      "metadata": {
        "id": "8wXaf4hxU5yW"
      },
      "source": [
        "If we change the indentation, it changes the scope of the for loop.  Predict what the following loop will do, by unraveling, before evaluating it."
      ]
    },
    {
      "cell_type": "code",
      "metadata": {
        "id": "F_FcpC5QU5yX",
        "colab": {
          "base_uri": "https://localhost:8080/"
        },
        "outputId": "d019754f-d9fc-4d47-98fc-3d3edc7ac743"
      },
      "source": [
        "P = 1\n",
        "for n in range(1,6):\n",
        "    P = P * n\n",
        "print(\"n is\",n,\"and P is\",P)\n",
        "print(P)"
      ],
      "execution_count": null,
      "outputs": [
        {
          "output_type": "stream",
          "name": "stdout",
          "text": [
            "n is 5 and P is 120\n",
            "120\n"
          ]
        }
      ]
    },
    {
      "cell_type": "markdown",
      "metadata": {
        "id": "__tEmpKPU5yX"
      },
      "source": [
        "Scopes can be nested by nesting indentation.  What do you think the following loop will do?  Can you unravel it?"
      ]
    },
    {
      "cell_type": "code",
      "metadata": {
        "id": "9fboPJdAU5yX",
        "colab": {
          "base_uri": "https://localhost:8080/"
        },
        "outputId": "f7cfed62-78d6-46c4-aa0b-ee9ed12f4fe3"
      },
      "source": [
        "for x in [1,2,3]:\n",
        "    for y in ['a', 'b']:\n",
        "        print(x,y)"
      ],
      "execution_count": null,
      "outputs": [
        {
          "output_type": "stream",
          "name": "stdout",
          "text": [
            "1 a\n",
            "1 b\n",
            "2 a\n",
            "2 b\n",
            "3 a\n",
            "3 b\n"
          ]
        }
      ]
    },
    {
      "cell_type": "markdown",
      "metadata": {
        "id": "HmXwPykdU5yX"
      },
      "source": [
        "How might you create a nested loop which prints `1 a` then `2 a` then `3 a` then `1 b` then `2 b` then `3 b`?  Try it below."
      ]
    },
    {
      "cell_type": "code",
      "metadata": {
        "id": "b97leVdkU5yX",
        "colab": {
          "base_uri": "https://localhost:8080/"
        },
        "outputId": "36fca1ad-e448-48c9-b114-8793a681c41b"
      },
      "source": [
        "# Insert your loop here.\n",
        "for y in ['a','b']:\n",
        "    for x in [1,2,3]:\n",
        "        print(x,y)"
      ],
      "execution_count": null,
      "outputs": [
        {
          "output_type": "stream",
          "name": "stdout",
          "text": [
            "1 a\n",
            "2 a\n",
            "3 a\n",
            "1 b\n",
            "2 b\n",
            "3 b\n"
          ]
        }
      ]
    },
    {
      "cell_type": "markdown",
      "metadata": {
        "id": "ofCBY24EU5yX"
      },
      "source": [
        "Among popular programming languages, Python is particular about indentation.  Other languages indicate scope with open/close braces, for example, and indentation is just a matter of style.  By requiring indentation to indicate scope, Python effectively removes the need for open/close braces, and enforces a readable style.\n",
        "\n",
        "We have now encountered data types, operations, variables, and loops.  Taken together, these are powerful tools for computation!  Now complete the following exercises for more practice."
      ]
    },
    {
      "cell_type": "markdown",
      "metadata": {
        "id": "JBr_HgrSU5yX"
      },
      "source": [
        "## Exercises"
      ]
    },
    {
      "cell_type": "markdown",
      "metadata": {
        "id": "FEQTm_WZU5yX"
      },
      "source": [
        "1.  Describe how Python interprets division with remainder when the divisor and/or dividend is negative.\n",
        "2.  What is the remainder when $2^{90}$ is divided by $91$?\n",
        "3.  How many multiples of 13 are there between 1 and 1000?\n",
        "4.  How many *odd* multiples of 13 are there between 1 and 1000?\n",
        "5.  What is the sum of the numbers from 1 to 1000?\n",
        "6.  What is the sum of the squares, from $1 \\cdot 1$ to $1000 \\cdot 1000$?\n",
        "7.  Euler proved that\n",
        "$$\\frac{1}{1^4} + \\frac{1}{2^4} + \\frac{1}{3^4} + \\cdots = \\frac{\\pi^4}{C},$$\n",
        "for some positive integer $C$.  Use Python to guess what $C$ is."
      ]
    },
    {
      "cell_type": "code",
      "metadata": {
        "id": "F870MLhKU5yX",
        "colab": {
          "base_uri": "https://localhost:8080/"
        },
        "outputId": "dc8dfe31-3065-4f90-a860-d57889971806"
      },
      "source": [
        "# Insert your solutions here.\n",
        "-5/-2"
      ],
      "execution_count": null,
      "outputs": [
        {
          "output_type": "execute_result",
          "data": {
            "text/plain": [
              "2.5"
            ]
          },
          "metadata": {},
          "execution_count": 41
        }
      ]
    },
    {
      "cell_type": "markdown",
      "source": [
        "1. it treats division with negative numbers just like a calculator would"
      ],
      "metadata": {
        "id": "FOqYHFMvfOyy"
      }
    },
    {
      "cell_type": "code",
      "source": [
        "2**90%91"
      ],
      "metadata": {
        "colab": {
          "base_uri": "https://localhost:8080/"
        },
        "id": "VLHdJpwXfUno",
        "outputId": "c2ae6e4d-7e97-42be-fbb2-19389df4cadb"
      },
      "execution_count": null,
      "outputs": [
        {
          "output_type": "execute_result",
          "data": {
            "text/plain": [
              "64"
            ]
          },
          "metadata": {},
          "execution_count": 46
        }
      ]
    },
    {
      "cell_type": "code",
      "source": [
        "len(list(range(0,1001,13)))"
      ],
      "metadata": {
        "colab": {
          "base_uri": "https://localhost:8080/"
        },
        "id": "daQRdffjfjw2",
        "outputId": "16a26c00-370e-4a59-ad8b-4d800b248154"
      },
      "execution_count": null,
      "outputs": [
        {
          "output_type": "execute_result",
          "data": {
            "text/plain": [
              "77"
            ]
          },
          "metadata": {},
          "execution_count": 49
        }
      ]
    },
    {
      "cell_type": "code",
      "source": [
        "len(list(range(13,1001,26)))"
      ],
      "metadata": {
        "colab": {
          "base_uri": "https://localhost:8080/"
        },
        "id": "Gz8sdKurkYH2",
        "outputId": "9d84adbd-c283-408d-fade-0f6232f9929b"
      },
      "execution_count": null,
      "outputs": [
        {
          "output_type": "execute_result",
          "data": {
            "text/plain": [
              "38"
            ]
          },
          "metadata": {},
          "execution_count": 1
        }
      ]
    },
    {
      "cell_type": "code",
      "source": [
        "P = 0\n",
        "for n in range(1,1001):\n",
        "    P = P + n\n",
        "print(P)"
      ],
      "metadata": {
        "id": "d9Bj2k5dkmdr",
        "colab": {
          "base_uri": "https://localhost:8080/"
        },
        "outputId": "e9eb50a1-1bcc-48d7-82f9-62932c949461"
      },
      "execution_count": null,
      "outputs": [
        {
          "output_type": "stream",
          "name": "stdout",
          "text": [
            "500500\n"
          ]
        }
      ]
    },
    {
      "cell_type": "code",
      "source": [
        "P = 0\n",
        "for n in range(1,1001):\n",
        "    P = P + n*n\n",
        "print(P)"
      ],
      "metadata": {
        "colab": {
          "base_uri": "https://localhost:8080/"
        },
        "id": "S7Im1r22nSFX",
        "outputId": "7624e4ea-a8ec-4332-e666-6ae7a3124aab"
      },
      "execution_count": null,
      "outputs": [
        {
          "output_type": "stream",
          "name": "stdout",
          "text": [
            "333833500\n"
          ]
        }
      ]
    },
    {
      "cell_type": "code",
      "source": [
        "P = 0\n",
        "for n in range(1,1001):\n",
        "    P = P + 1/(n**4)\n",
        "print(P)"
      ],
      "metadata": {
        "colab": {
          "base_uri": "https://localhost:8080/"
        },
        "id": "6V_Z-uHfndQJ",
        "outputId": "d75207d6-c898-452f-fda2-5214179cc2ee"
      },
      "execution_count": null,
      "outputs": [
        {
          "output_type": "stream",
          "name": "stdout",
          "text": [
            "1.082323233378306\n"
          ]
        }
      ]
    },
    {
      "cell_type": "code",
      "source": [
        "import math\n",
        "(math.pi)**4"
      ],
      "metadata": {
        "colab": {
          "base_uri": "https://localhost:8080/"
        },
        "id": "LjPb3VAKnnsG",
        "outputId": "84253dc3-9c5f-4020-baac-07b6bf436aa1"
      },
      "execution_count": null,
      "outputs": [
        {
          "output_type": "execute_result",
          "data": {
            "text/plain": [
              "97.40909103400242"
            ]
          },
          "metadata": {},
          "execution_count": 23
        }
      ]
    },
    {
      "cell_type": "code",
      "source": [
        "97.40909103400242/1.082323233378306"
      ],
      "metadata": {
        "colab": {
          "base_uri": "https://localhost:8080/"
        },
        "id": "Buxhac4rpmFU",
        "outputId": "db6c8539-06ec-4e77-9bd3-42f486cbc992"
      },
      "execution_count": null,
      "outputs": [
        {
          "output_type": "execute_result",
          "data": {
            "text/plain": [
              "90.00000002767646"
            ]
          },
          "metadata": {},
          "execution_count": 24
        }
      ]
    },
    {
      "cell_type": "markdown",
      "source": [
        "C is aproximately 90"
      ],
      "metadata": {
        "id": "i-gEg0nQpu22"
      }
    },
    {
      "cell_type": "markdown",
      "metadata": {
        "id": "nS9xYcpCU5yY"
      },
      "source": [
        "# Explorations\n",
        "\n",
        "Now that you have learned the basics of computation in Python and loops, we can start exploring some interesting mathematics!  We are going to look at approximation here -- some ancient questions made easier with programming.\n",
        "\n",
        "These explorations will be graded, but it's ok (no grade penalty!) if you don't finish all the explorations by the due date.  Finish what you can, and focus on doing the work well, not getting all the way to the end.  Experienced programmers might get quickly to the end, but new programmers might focus on approximating square roots for more time."
      ]
    },
    {
      "cell_type": "markdown",
      "metadata": {
        "id": "IfPCPAu5U5yY"
      },
      "source": [
        "## Exploration 1:  Approximating square roots.\n",
        "\n",
        "We have seen how Python can do basic arithmetic -- addition, subtraction, multiplication, and division.  But what about other functions, like the square root?  In fact, Python offers a few functions for the square root, but that's not the point.  How can we compute the square root using only basic arithmetic?  \n",
        "\n",
        "Why might we care?\n",
        "\n",
        "1.  We might want to know the square root of a number with more precision than the Python function offers.\n",
        "2.  We might want to understand how the square root is computed... under the hood.\n",
        "3.  Understanding approximations of square roots and other functions is important, because we might want to approximate other functions in the future (that aren't pre-programmed for us).\n",
        "\n",
        "Here is a method for approximating the square root of a number $X$.\n",
        "\n",
        "1.  Begin with a guess $g$.\n",
        "2.  Observe that $g \\cdot (X / g) = X$.  Therefore, among the two numbers $g$ and $(X/g)$, one will be less than or equal to the square root of X, and the other will be greater than or equal to the square root.\n",
        "3.  Take the average of $g$ and $(X/g)$.  This will be closer to the square root than $g$ or $X/g$ (unless your guess is exactly right!) \n",
        "4.  Use this average as a new guess... and go back to the beginning.\n",
        "\n",
        "Now implement this in Python to approximate the square root of 2.  Use a loop, so that you can go through the approximation process 10 times or 100 times or however many you wish.  Explore the effect of different starting guesses.  Would a change in the averaging function improve the approximation?  How quickly does this converge?  How does this change if you try square roots of different positive numbers?\n",
        "\n",
        "Write your code (Python) and findings (in Markdown cells) in a readable form.  Answer the questions in complete sentences.\n",
        "\n"
      ]
    },
    {
      "cell_type": "code",
      "metadata": {
        "id": "PoGqUlqoU5yY",
        "colab": {
          "base_uri": "https://localhost:8080/"
        },
        "outputId": "fec7e0f5-c2de-4f43-ccf2-2c8333432f2c"
      },
      "source": [
        "g=-255\n",
        ".5*(g+2/g)"
      ],
      "execution_count": null,
      "outputs": [
        {
          "output_type": "execute_result",
          "data": {
            "text/plain": [
              "-127.50392156862745"
            ]
          },
          "metadata": {},
          "execution_count": 1
        }
      ]
    },
    {
      "cell_type": "code",
      "source": [
        "for n in range(1,60000):\n",
        "    g = .5*(g+2/g)\n",
        "print(g) "
      ],
      "metadata": {
        "colab": {
          "base_uri": "https://localhost:8080/"
        },
        "id": "vFC-e7q_qvPO",
        "outputId": "8f635814-9744-480d-e558-a932bf6cd3b3"
      },
      "execution_count": null,
      "outputs": [
        {
          "output_type": "stream",
          "name": "stdout",
          "text": [
            "-1.414213562373095\n"
          ]
        }
      ]
    },
    {
      "cell_type": "markdown",
      "metadata": {
        "id": "gHxmSYaoc8v0"
      },
      "source": [
        "Describe your findings here in 1-2 paragraphs."
      ]
    },
    {
      "cell_type": "markdown",
      "source": [
        "I simply recreated the formula in code. What was interesting though was that it works with any positive guess as long as you have enough cycles. A million only needs to be divide by 2 20 times to be manageable. Afterwards I tried installing a pyhton app on my phone and trying out a code that could work for a bube root and it did. the accuracy increases pretty quickly so 60000 cycles is unnecesary but interesting."
      ],
      "metadata": {
        "id": "1x22p3Vm2NZF"
      }
    },
    {
      "cell_type": "markdown",
      "metadata": {
        "id": "fOUbCcfxU5yY"
      },
      "source": [
        "## Exploration 2:  Approximating e and pi.\n",
        "\n",
        "Now we approximate two of the most important constants in mathematics:  e and pi.  There are multiple approaches, but e is pretty easy with the series expansion of e^x.  First, approximate e by evaluating the Taylor series expansion of e^x at x=1.  I.e., remember from calculus that\n",
        "$$e^x = 1 + x + \\frac{1}{2} x^2 + \\frac{1}{3!} x^3 + \\frac{1}{4!} x^4 + \\cdots.$$\n",
        "How many terms are necessary before the float stabilizes?  Use a loop, with a running product for the factorials and running sums for the series."
      ]
    },
    {
      "cell_type": "code",
      "metadata": {
        "id": "cH0ApCftU5yY",
        "colab": {
          "base_uri": "https://localhost:8080/"
        },
        "outputId": "556349ea-19d5-49b1-f4f7-3de6eeb4311a"
      },
      "source": [
        "e=1\n",
        "P = 1\n",
        "for n in range(1,60):\n",
        "    P = P * n\n",
        "    d=1/P\n",
        "    e=e+d\n",
        "print(e)"
      ],
      "execution_count": null,
      "outputs": [
        {
          "output_type": "stream",
          "name": "stdout",
          "text": [
            "2.7182818284590455\n"
          ]
        }
      ]
    },
    {
      "cell_type": "markdown",
      "metadata": {
        "id": "YYhT-tDRU5yY"
      },
      "source": [
        "Next we will approximate pi, which is much more interesting.  We can try a few approaches.  For a series-approach (like e), we need a series that converges to pi.  A simple example is the arctangent atan(x).  Recall (precalculus!) that $atan(1) = \\pi/4$.  Moreover, the derivative of $atan(x)$ is $1 / (1+x^2)$.  \n",
        "\n",
        "1.  Figure out the Taylor series of $1 / (1+x^2)$ near $x=0$.  Note that this is a geometric series!  So you can use the formula $1 / (1-r) = 1 + r + r^2 + r^3 + \\cdots$. \n",
        "\n",
        "2.  Figure out the Taylor series of $atan(x)$ near $x=0$ by taking the antiderivative, term by term, of the above.\n",
        "\n",
        "3.  Try to estimate $\\pi$ with this series, using many terms of the series."
      ]
    },
    {
      "cell_type": "code",
      "metadata": {
        "id": "wYlwMQxBU5yY"
      },
      "source": [
        "1-x**2+x**4...."
      ],
      "execution_count": null,
      "outputs": []
    },
    {
      "cell_type": "code",
      "source": [
        "x-x**3/3+x**5/5"
      ],
      "metadata": {
        "id": "OjuvRzFOVrcB"
      },
      "execution_count": null,
      "outputs": []
    },
    {
      "cell_type": "code",
      "source": [
        "for this case though it will 1-1/3+1/5"
      ],
      "metadata": {
        "id": "0H8giB1-VrT9"
      },
      "execution_count": null,
      "outputs": []
    },
    {
      "cell_type": "code",
      "source": [
        "quart=0\n",
        "for n in range(1,5000,4):\n",
        "    quart = quart + 1/n - 1/(n+2)\n",
        "print(4*quart)"
      ],
      "metadata": {
        "colab": {
          "base_uri": "https://localhost:8080/"
        },
        "id": "vneEmiX4XG-i",
        "outputId": "6d31174f-15e3-4210-8323-5fc0d131fa61"
      },
      "execution_count": null,
      "outputs": [
        {
          "output_type": "stream",
          "name": "stdout",
          "text": [
            "3.1411926536057937\n"
          ]
        }
      ]
    },
    {
      "cell_type": "markdown",
      "metadata": {
        "id": "77BvRTGFU5yY"
      },
      "source": [
        "Now we'll accelerate things a bit.  There's a famous formula of Machin (1706) who computed the first hundred digits of $\\pi$.  We'll use his identity:\n",
        "\n",
        "$\\pi/4 = 4 \\cdot atan(1/5) - atan(1 / 239)$.  \n",
        "\n",
        "This isn't obvious, but there's a tedious proof using sum/difference identities in trig.\n",
        "\n",
        "Try using this formula now to approximate $\\pi$, using your Taylor series for $atan(x)$.  It should require fewer terms."
      ]
    },
    {
      "cell_type": "code",
      "metadata": {
        "id": "71EwcYnMU5yY",
        "colab": {
          "base_uri": "https://localhost:8080/"
        },
        "outputId": "95398a25-be6a-4a41-9078-326b31e82e08"
      },
      "source": [
        "quart=0\n",
        "small=0\n",
        "for n in range(1,5000,4):\n",
        "    quart = quart + (.2)**n/n - (.2)**(n+2)/(n+2)\n",
        "    small = small + (1/239)**n/n - (1/239)**(n+2)/(n+2)\n",
        "print(4*(4*quart-small))"
      ],
      "execution_count": 39,
      "outputs": [
        {
          "output_type": "stream",
          "name": "stdout",
          "text": [
            "3.141592653589794\n"
          ]
        }
      ]
    },
    {
      "cell_type": "markdown",
      "metadata": {
        "id": "NazcANnNU5yY"
      },
      "source": [
        "Now let's compare this to **Archimedes' method**.  Archimedes approximated pi by looking at the perimeters $p(n)$ and $P(n)$ of ($2^n$)-gons inscribed in and circumscribed around a unit circle.  So $p(2)$ is the perimeter of a square inscribed in the unit circle.  $P(2)$ is the perimeter of a square circumscribed around a unit circle.\n",
        "\n",
        "Archimedes proved the following (not in the formulaic language of algebra):  For all $n \\geq 2$,\n",
        "\n",
        "(P-formula)  $P(n+1) = \\frac{2  p(n) P(n)}{p(n) + P(n)}$.\n",
        "\n",
        "(p-formula)  $p(n+1) = \\sqrt{ p(n)  P(n+1) }$.\n",
        "\n",
        "1.  Compute $p(2)$ and $P(2)$.\n",
        "\n",
        "2.  Use these formulas to compute $p(10)$ and $P(10)$.  Use this to get a good approximation for $\\pi$!\n",
        "\n",
        "We could use our previous sqrt function.  But here is a fancier high-precision approach.  \"mpmath\" is a Python package for high-precision calculation.  It should be accessible through Google Colab.  You can read the full documentation at http://mpmath.org/doc/current/\n",
        "\n",
        "First we load the package and print its status."
      ]
    },
    {
      "cell_type": "code",
      "source": [
        "small=4*2**(.5)\n",
        "big=8\n",
        "for n in range(8):\n",
        "  big=(2*small*big)/(small+big)\n",
        "  small=(small*big)**(1/2)\n",
        "print(big/2)\n",
        "print(small/2)"
      ],
      "metadata": {
        "colab": {
          "base_uri": "https://localhost:8080/"
        },
        "id": "QL1x4Xejm609",
        "outputId": "2bb347b8-5ae3-4ca1-d5eb-a22445ce7bf2"
      },
      "execution_count": 19,
      "outputs": [
        {
          "output_type": "stream",
          "name": "stdout",
          "text": [
            "3.1416025102568095\n",
            "3.14158772527716\n"
          ]
        }
      ]
    },
    {
      "cell_type": "markdown",
      "source": [
        "i dont know why its doubled"
      ],
      "metadata": {
        "id": "tYdvkapSq7Pz"
      }
    },
    {
      "cell_type": "code",
      "source": [
        "p(2)=2\n",
        "P(2)=4\n",
        "p(10)=3.14158772527716\n",
        "P(10)=3.1416025102568095"
      ],
      "metadata": {
        "id": "KoilM4VZby3V"
      },
      "execution_count": null,
      "outputs": []
    },
    {
      "cell_type": "code",
      "metadata": {
        "id": "uJZZ9M_PU5yZ",
        "colab": {
          "base_uri": "https://localhost:8080/"
        },
        "outputId": "e701d85d-fbad-44f6-91a8-d5d5999aad3c"
      },
      "source": [
        "from mpmath import *\n",
        "print(mp)"
      ],
      "execution_count": 20,
      "outputs": [
        {
          "output_type": "stream",
          "name": "stdout",
          "text": [
            "Mpmath settings:\n",
            "  mp.prec = 53                [default: 53]\n",
            "  mp.dps = 15                 [default: 15]\n",
            "  mp.trap_complex = False     [default: False]\n"
          ]
        }
      ]
    },
    {
      "cell_type": "markdown",
      "metadata": {
        "id": "17mWwbgyU5yZ"
      },
      "source": [
        "The number mp.dps is (roughly) the number of decimal digits that mpmath will keep track of in its computations.  mp.prec is the binary precision, a bit more than 3 times the decimal precision.  We can change this to whatever we want."
      ]
    },
    {
      "cell_type": "code",
      "metadata": {
        "id": "f2aNKEWeU5yZ",
        "colab": {
          "base_uri": "https://localhost:8080/"
        },
        "outputId": "db563c17-c4ec-43eb-b42c-690a25c6e648"
      },
      "source": [
        "mp.dps = 50 # Let's try 50 digits precision to start.\n",
        "print(mp)"
      ],
      "execution_count": 21,
      "outputs": [
        {
          "output_type": "stream",
          "name": "stdout",
          "text": [
            "Mpmath settings:\n",
            "  mp.prec = 169               [default: 53]\n",
            "  mp.dps = 50                 [default: 15]\n",
            "  mp.trap_complex = False     [default: False]\n"
          ]
        }
      ]
    },
    {
      "cell_type": "markdown",
      "metadata": {
        "id": "AVFYKq9hU5yZ"
      },
      "source": [
        "mpmath has a nice function for square roots.  Compare this to your approximation from before!"
      ]
    },
    {
      "cell_type": "code",
      "metadata": {
        "scrolled": true,
        "id": "IynhKMaLU5yZ",
        "colab": {
          "base_uri": "https://localhost:8080/"
        },
        "outputId": "4ddd01bb-6fc0-4aa9-f7d8-97d92e54ffe1"
      },
      "source": [
        "sqrt(2)  # mpf(...) stands for an mp-float.  "
      ],
      "execution_count": 23,
      "outputs": [
        {
          "output_type": "execute_result",
          "data": {
            "text/plain": [
              "mpf('1.4142135623730950488016887242096980785696718753769468')"
            ]
          },
          "metadata": {},
          "execution_count": 23
        }
      ]
    },
    {
      "cell_type": "code",
      "metadata": {
        "id": "quMwWJJ3U5yZ",
        "colab": {
          "base_uri": "https://localhost:8080/"
        },
        "outputId": "2bced688-34f1-4ba1-cc0e-0bd2b39f085a"
      },
      "source": [
        "type(sqrt(2)) # mpmath stores numbers in its own types!"
      ],
      "execution_count": 24,
      "outputs": [
        {
          "output_type": "execute_result",
          "data": {
            "text/plain": [
              "mpmath.ctx_mp_python.mpf"
            ]
          },
          "metadata": {},
          "execution_count": 24
        }
      ]
    },
    {
      "cell_type": "code",
      "metadata": {
        "id": "3WEkkeNNU5yZ",
        "colab": {
          "base_uri": "https://localhost:8080/"
        },
        "outputId": "1bce52ba-0dcc-4199-f661-eb9e6205fd1f"
      },
      "source": [
        "4*mp.atan(1) # mpmath has the arctan built in.  This should be pretty close to pi!"
      ],
      "execution_count": 25,
      "outputs": [
        {
          "output_type": "execute_result",
          "data": {
            "text/plain": [
              "mpf('3.1415926535897932384626433832795028841971693993751068')"
            ]
          },
          "metadata": {},
          "execution_count": 25
        }
      ]
    },
    {
      "cell_type": "markdown",
      "metadata": {
        "id": "8oMFGUkiU5yZ"
      },
      "source": [
        "Now try Archimedes' approximation of pi.  Use the mpmath sqrt function along the way.  How many iterations do you need to get pi correct to 100 digits?  Compare this to the arctan-series (not the mpmath atan function) via Machin's formula."
      ]
    },
    {
      "cell_type": "code",
      "metadata": {
        "id": "ulLOs22VU5yZ",
        "colab": {
          "base_uri": "https://localhost:8080/"
        },
        "outputId": "f947f6a2-6bbf-47ef-a618-e64806de8edb"
      },
      "source": [
        "small=4*2**(.5)\n",
        "big=8\n",
        "mp.dps=100\n",
        "for n in range(6000):\n",
        "  big=(2*small*big)/(small+big)\n",
        "  small=sqrt(small*big)\n",
        "print(big/2)\n",
        "print(small/2)"
      ],
      "execution_count": 37,
      "outputs": [
        {
          "output_type": "stream",
          "name": "stdout",
          "text": [
            "3.141592653589793566986664927155421133130372101932809391885271765148599177175043895571041152257331145\n",
            "3.141592653589793566986664927155421133130372101932809391885271765148599177175043895571041152257331145\n"
          ]
        }
      ]
    },
    {
      "cell_type": "code",
      "source": [
        "i tried 8,9,10,11,12,20,40,60,100,600 but it always seemed wrong and some iterations seemed to maintain certain elements that were not favorable"
      ],
      "metadata": {
        "id": "0eAABYc6tAMp"
      },
      "execution_count": null,
      "outputs": []
    },
    {
      "cell_type": "code",
      "source": [
        "i was unable to get 100 correct digits, probably something wrong with the code"
      ],
      "metadata": {
        "id": "yudyUaFXtVAP"
      },
      "execution_count": null,
      "outputs": []
    },
    {
      "cell_type": "markdown",
      "source": [
        "the machin formula seemed to be much more accurate and quick but that also may be due to a failure in the code i wrote"
      ],
      "metadata": {
        "id": "rK9SUyzE213D"
      }
    }
  ]
}