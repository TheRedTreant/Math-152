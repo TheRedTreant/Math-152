{
  "nbformat": 4,
  "nbformat_minor": 0,
  "metadata": {
    "colab": {
      "provenance": [],
      "include_colab_link": true
    },
    "kernelspec": {
      "name": "python3",
      "display_name": "Python 3"
    },
    "language_info": {
      "name": "python"
    }
  },
  "cells": [
    {
      "cell_type": "markdown",
      "metadata": {
        "id": "view-in-github",
        "colab_type": "text"
      },
      "source": [
        "<a href=\"https://colab.research.google.com/github/TheRedTreant/Math-152/blob/main/Exploration_1_Project.ipynb\" target=\"_parent\"><img src=\"https://colab.research.google.com/assets/colab-badge.svg\" alt=\"Open In Colab\"/></a>"
      ]
    },
    {
      "cell_type": "markdown",
      "source": [
        "# Exploration 1\n",
        "# Group: Nice Eggs\n",
        "# Members: Oleg Trifonov, Jenna Borzellino, Samantha Taylor, Kaden Wallace, Yingjie Liu \n",
        "# Topic 1: Gauss's Circle Conjecture\n"
      ],
      "metadata": {
        "id": "xLuOFDtMbVtD"
      }
    },
    {
      "cell_type": "markdown",
      "source": [
        "First we found an equation for L(R), an equation that computes the sum of all latice points in a circle. Our first attempt at this equation was unable to compute larger numbers. To make the function run more quickly, we changed the range of the function so that it would compute less overall, and thus speeding up the program (all four attempts are shown below). Our fastest attempt can  run up to 10,000.\n",
        "\n",
        "Next, we made an error function, that computed the absolute value of the difference between the area of a circle of radius R and the sum of the lattice points of a circle of radius R. Next, we were interested to see what the errror percentage was for different circles so we created a function that could calculate that for circles of radius R. \n",
        "\n",
        "After that, we made a graph in order to compare the groth of the error in comparison to different powers of R. We noticed for powers of R greater than oe equal to 1, the error percentage grows smaller and smaller as R increases. \n",
        "\n",
        "Finally, we found the L(R) and error equations for the three dimensional plane."
      ],
      "metadata": {
        "id": "uuICxGIYK_5_"
      }
    },
    {
      "cell_type": "markdown",
      "source": [
        "First let us import some useful functions that will help us later on."
      ],
      "metadata": {
        "id": "gaK19jB_eXq5"
      }
    },
    {
      "cell_type": "code",
      "source": [
        "from matplotlib import pyplot as plt\n",
        "from mpmath import *\n",
        "import math"
      ],
      "metadata": {
        "id": "MMFyPQhxxAlH"
      },
      "execution_count": null,
      "outputs": []
    },
    {
      "cell_type": "markdown",
      "source": [
        "Now to start off we need to compute L(R). We know we have an input of R, two varying integers, and a counter to see how many times our loop is satisfied. So, these must all be present in our code."
      ],
      "metadata": {
        "id": "OGFDXdhH6THE"
      }
    },
    {
      "cell_type": "code",
      "execution_count": null,
      "metadata": {
        "id": "QEFKPk0e3cCW"
      },
      "outputs": [],
      "source": [
        "def latcount(R): #defined function\n",
        "  count=0 #started count at 0\n",
        "  for n in range(-R,R+1): #we know our range is -R to R+1 as this allows us to get a range from our input \n",
        "    for m in range(-R,R+1):#and we want to include all the negative inputs as well as R\n",
        "      if (n**2+m**2)>R**2:#we only want the values less than or equal to R squared,\n",
        "        count=count#so we leave the counter the same \n",
        "      else:#This will only be satisfied if the values are less than or equal to R squared\n",
        "        count=count+1#and when satisfied we raise our count by 1\n",
        "  print(count)#then print the final count\n",
        "\n"
      ]
    },
    {
      "cell_type": "code",
      "source": [
        "latcount(100)"
      ],
      "metadata": {
        "colab": {
          "base_uri": "https://localhost:8080/"
        },
        "id": "Yz5NUeV196na",
        "outputId": "498a4546-91d3-4d35-e4b4-78d186bbbd9f"
      },
      "execution_count": null,
      "outputs": [
        {
          "output_type": "stream",
          "name": "stdout",
          "text": [
            "31417\n"
          ]
        }
      ]
    },
    {
      "cell_type": "code",
      "source": [
        "latcount(1000)"
      ],
      "metadata": {
        "colab": {
          "base_uri": "https://localhost:8080/"
        },
        "id": "QvIEjS2WNAFq",
        "outputId": "822d1003-7c42-4097-bc81-a186145c192f"
      },
      "execution_count": null,
      "outputs": [
        {
          "output_type": "stream",
          "name": "stdout",
          "text": [
            "3141549\n"
          ]
        }
      ]
    },
    {
      "cell_type": "code",
      "source": [
        "#we see that at 10000 it starts to take a lot more time\n",
        "#this could be caused by the size of our range of numbers, taking in -R to R+1\n",
        "#makes sure we have all lattice in all 4 quadrants. But if we were just to find the number of lattice points in a single quadrant and multiply it by 4\n",
        "#I think it should give us the same result while taking less time\n",
        "def latcount_2(R):\n",
        "  count=0\n",
        "  for n in range(0,R+1):\n",
        "    for m in range(0,R+1):\n",
        "      if (n**2+m**2)>R**2:\n",
        "        count=count\n",
        "      else:\n",
        "        count=count+1\n",
        "  print(count*4)\n",
        "\n",
        "#we see that this code runs faster however its not yeilding the same result from before. This number is greater and is probably due to recounting lattice points.\n",
        "#since this attempt didnt work, ill try something different\n",
        "def latcount_3(R):\n",
        "  count=0\n",
        "  for n in range(-R,R+1):\n",
        "    for m in range(0,R+1):\n",
        "      if (n**2+m**2)<=R**2:\n",
        "        count=count+1\n",
        "  print(count*2-2*R-1)\n",
        "\n",
        "#this works because im accounting for the numbers im counting more than once by subtracting them at the end.\n",
        "#now that I know this i think i can make the first code I wrote faster and still work\n",
        "def latcount_4(R):\n",
        "  count=0\n",
        "  square=R*R\n",
        "  for n in range(0,R+1):\n",
        "    for m in range(0,R+1):\n",
        "      if (n**2+m**2)<=square:\n",
        "        count=count+1\n",
        "  print(count*4-4*R-3)\n",
        "latcount_4(10000)\n",
        "#it works and is seemingly faster however for a number like 10000 it just takes too long.\n",
        "\n"
      ],
      "metadata": {
        "colab": {
          "base_uri": "https://localhost:8080/"
        },
        "id": "F8WAIjM9NUkW",
        "outputId": "48629693-eb1d-4d4d-d442-de913803f3d8"
      },
      "execution_count": null,
      "outputs": [
        {
          "output_type": "stream",
          "name": "stdout",
          "text": [
            "314159053\n"
          ]
        }
      ]
    },
    {
      "cell_type": "markdown",
      "source": [
        "Compute E(R)=A(R)-L(R)"
      ],
      "metadata": {
        "id": "ov4yxpcjvBrG"
      }
    },
    {
      "cell_type": "code",
      "source": [
        "def error(R):\n",
        "  area=3.141592653589793*R**2\n",
        "  count=0\n",
        "  for n in range(-R,R+1):\n",
        "    for m in range(-R,R+1):\n",
        "      if (n**2+m**2)>R**2:\n",
        "        if(m>0):   # here make an early break to reduce redundant calculations\n",
        "          break\n",
        "      else:\n",
        "        count=count+1\n",
        "  #print(area-count)\n",
        "  return abs((area-count))"
      ],
      "metadata": {
        "id": "mzR8nxIu-Cd3"
      },
      "execution_count": null,
      "outputs": []
    },
    {
      "cell_type": "code",
      "source": [
        "error(5)"
      ],
      "metadata": {
        "colab": {
          "base_uri": "https://localhost:8080/"
        },
        "id": "FU6qlDG--RN0",
        "outputId": "77c9b5de-6e64-4c74-be85-2783aca0da11"
      },
      "execution_count": null,
      "outputs": [
        {
          "output_type": "execute_result",
          "data": {
            "text/plain": [
              "2.4601836602551685"
            ]
          },
          "metadata": {},
          "execution_count": 7
        }
      ]
    },
    {
      "cell_type": "code",
      "source": [
        "error(10)"
      ],
      "metadata": {
        "colab": {
          "base_uri": "https://localhost:8080/"
        },
        "id": "66_fMelz-0l-",
        "outputId": "7f4fa46d-ebef-481b-e622-a4835a320fc6"
      },
      "execution_count": null,
      "outputs": [
        {
          "output_type": "execute_result",
          "data": {
            "text/plain": [
              "2.840734641020674"
            ]
          },
          "metadata": {},
          "execution_count": 8
        }
      ]
    },
    {
      "cell_type": "code",
      "source": [
        "def error_percent(R):\n",
        "  area=3.141592653589793*R**2\n",
        "  count=0\n",
        "  for n in range(-R,R+1):\n",
        "    for m in range(-R,R+1):\n",
        "      if (n**2+m**2)>R**2:\n",
        "        if(m>0):\n",
        "          break\n",
        "      else:\n",
        "        count=count+1\n",
        "  return (100*(count-area)/area)"
      ],
      "metadata": {
        "id": "vQoT9rSIWAbv"
      },
      "execution_count": null,
      "outputs": []
    },
    {
      "cell_type": "code",
      "source": [
        "error_percent(5)"
      ],
      "metadata": {
        "colab": {
          "base_uri": "https://localhost:8080/"
        },
        "id": "6b8SzlrNWh7X",
        "outputId": "d188a986-7940-4c39-c236-8591f9d645c5"
      },
      "execution_count": null,
      "outputs": [
        {
          "output_type": "execute_result",
          "data": {
            "text/plain": [
              "3.132403123548177"
            ]
          },
          "metadata": {},
          "execution_count": 24
        }
      ]
    },
    {
      "cell_type": "markdown",
      "source": [
        "Analyze the growing speed of E(R) in comparison to $R$,$R^2$,$\\sqrt{R}$,$R^{3/2}$, then visualizing using matplotlib"
      ],
      "metadata": {
        "id": "7bUpfSKnv8WR"
      }
    },
    {
      "cell_type": "code",
      "source": [
        "##  here the lists store the ratio of error(R) respectively to R,R**2,sqrt(R),R**(1.5)\n",
        "##  in order to discover the growing speed of E(R) in comparison to R,R**2,sqrt(R) and R**(1.5)\n",
        "x=[]\n",
        "y1=[]\n",
        "y2=[]\n",
        "y3=[]\n",
        "y4=[]\n",
        "for R in range(1,2000,100): # go from 1 to 2000 with step 100\n",
        "  x.append(R)\n",
        "  err=error(R)  #calculate error(R)\n",
        "  #calculate different ratio\n",
        "  y1.append(err/R)\n",
        "  y2.append(err/(R**2))\n",
        "  y3.append(err/math.sqrt(R))\n",
        "  y4.append(err/R**(1.5))\n",
        "# ploting\n",
        "plt.plot(x,y1)\n",
        "plt.plot(x,y2)\n",
        "plt.plot(x,y3)\n",
        "plt.plot(x,y4)\n",
        "plt.legend(['E(R)/R','E(R)/R^2','E(R)/sqrt(R)','E(R)/R^3/2'])\n",
        "plt.show()\n",
        "# we use matploblib to print the trend of the ratios as R grows, \n",
        "# we know that if E(R) grows as fast as f(R), then E(R)/f(R) should stay within certain limits when R is large\n",
        "# from the figure we can see that E(R) grows nearly as fast as sqrt(R), as the value of green line stay in a certain range\n",
        "# whlie other ratios approach to zero when R is large, which indicates that E(R) grows slower than R,R**2,etc."
      ],
      "metadata": {
        "colab": {
          "base_uri": "https://localhost:8080/",
          "height": 265
        },
        "id": "EvRr-7RKwQzv",
        "outputId": "b987db5e-c8e7-45ec-939f-0e57d3e66e35"
      },
      "execution_count": null,
      "outputs": [
        {
          "output_type": "display_data",
          "data": {
            "text/plain": [
              "<Figure size 432x288 with 1 Axes>"
            ],
            "image/png": "[encoded data removed]"
          },
          "metadata": {
            "needs_background": "light"
          }
        }
      ]
    },
    {
      "cell_type": "markdown",
      "source": [
        "From the plot above we can see that E(R) grows slower than $R$, $R^{3/2}$ and $R^2$ as the ratio approximates to zero when R is big. The ratio of $E(R)/\\sqrt{R}$ maintains in a certain range. Therefore $E(R)\\approx$ $O(\\sqrt{R})$"
      ],
      "metadata": {
        "id": "fhGk0bw44tPn"
      }
    },
    {
      "cell_type": "markdown",
      "source": [
        "compute L(R) in 3d-sphere"
      ],
      "metadata": {
        "id": "yxqo6lE_vWip"
      }
    },
    {
      "cell_type": "code",
      "source": [
        "def space_count(R):\n",
        "  count=0\n",
        "  for x in range(-R,R+1):\n",
        "    for y in range(-R,R+1):\n",
        "      for z in range(-R,R+1):\n",
        "        if (x**2+y**2+z**2)>R**2:\n",
        "          count=count\n",
        "        else:\n",
        "          count=count+1\n",
        "  print(count)"
      ],
      "metadata": {
        "id": "up2889-wAZ13"
      },
      "execution_count": null,
      "outputs": []
    },
    {
      "cell_type": "code",
      "source": [
        "space_count(3)"
      ],
      "metadata": {
        "id": "nn8iR4xSBRJt",
        "colab": {
          "base_uri": "https://localhost:8080/"
        },
        "outputId": "da5b77e3-1503-480b-86f6-a548295e08fe"
      },
      "execution_count": null,
      "outputs": [
        {
          "output_type": "stream",
          "name": "stdout",
          "text": [
            "123\n"
          ]
        }
      ]
    },
    {
      "cell_type": "markdown",
      "source": [
        "Compute E(R) in 3d-sphere"
      ],
      "metadata": {
        "id": "du9DTpiEvg0K"
      }
    },
    {
      "cell_type": "code",
      "source": [
        "def space_error(R):\n",
        "  area=(4/3)*3.14159*R**3\n",
        "  count=0\n",
        "  for x in range(-R,R+1):\n",
        "    for y in range(-R,R+1):\n",
        "      for z in range(-R,R+1):\n",
        "        if (x**2+y**2+z**2)>R**2:\n",
        "          count=count\n",
        "        else:\n",
        "          count=count+1\n",
        "  print(area-count)"
      ],
      "metadata": {
        "id": "fW7XHsFhKvZs"
      },
      "execution_count": null,
      "outputs": []
    },
    {
      "cell_type": "code",
      "source": [
        "space_error(3)"
      ],
      "metadata": {
        "id": "rWFcRunRLFYt",
        "outputId": "b41f41d4-165c-4b40-ca44-8785bd1fe7f6",
        "colab": {
          "base_uri": "https://localhost:8080/"
        }
      },
      "execution_count": null,
      "outputs": [
        {
          "output_type": "stream",
          "name": "stdout",
          "text": [
            "-9.902760000000015\n"
          ]
        }
      ]
    },
    {
      "cell_type": "markdown",
      "source": [
        "In conclusion, we found and programmed functions for the sum of the lattice points, area, and error between the two of radius R, and discovered what happens to the area as R grows and shrinks, and even what happens when used in the third dimension."
      ],
      "metadata": {
        "id": "hZuD-9arRnII"
      }
    }
  ]
}